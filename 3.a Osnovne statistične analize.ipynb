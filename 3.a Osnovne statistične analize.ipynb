{
 "cells": [
  {
   "cell_type": "markdown",
   "id": "ab5d10f2-afaa-422c-b255-4291af624c81",
   "metadata": {},
   "source": [
    "# Tema 3: Osnovne statistične analize\n",
    "## Analiza prometnih nesreč\n",
    "Knjižnica `pandas` omogoča številne možnosti za analizo in vizualizacijo podatkov. Podatki za statistične analize so velikokrat dostopni v obliki besedilnih datatotek (.txt ali .csv) ali Excel formatu (.xlsx). Knjižnica omogoča preprosto nalaganje podatkov, filtriranje, čiščenje podatkov in statistično analizo, tudi z uporabo `scipy.stat` knjižnice, ter vizualno analizo podatkov z uporabo `matplotlib` knjižnice.\n",
    "\n",
    "V nadaljevanju bomo:\n",
    "- s spleta pridobili podatke o prometnih nesrečah\n",
    "- naložili podatke iz več vhodnih datotek in jih združili in prečistili za potrebe analize\n",
    "- izvedli osnovne statistične analize (opisne statistike, hi-hvadrat test neodvisnosti vzorcev)\n",
    "- prikazali podatke v grafih\n",
    "\n",
    "Pri tem bomo potrebovali in spoznali:\n",
    "- knjižnico `io` za dostop do datotek\n",
    "- postopek izdelave lastnih funkcij\n",
    "- postopke čiščenja in prilagajanja podatkov s knjižnico `pandas`\n",
    "- statistične funkcije knjižnice `pandas` in `scipy.stat`\n",
    "- prikaz grafov s funkcijami knjižnice `pandas` in `matplotlib`"
   ]
  },
  {
   "cell_type": "markdown",
   "id": "72704eb9-49a3-452f-ae47-440084610749",
   "metadata": {},
   "source": []
  },
  {
   "cell_type": "markdown",
   "id": "38d9971e-609d-407c-bc03-ab9d55838442",
   "metadata": {},
   "source": [
    "### Pridobivanje podatkov\n",
    "\n",
    "Za potrebe analize podatkov o prometnih nesrečah bomo podatke pridobili iz spleta, in sicer iz spletne strani Agencije za varnost v prometu RS. Izbrali smo enajstletno obdobje od 1.1.2010 do 31.12.2020 in se osredotočili na občino Maribor. V navedem obdobju je bilo zabeleženih skoraj 6000 prometnih nesreč. \n",
    "\n",
    "Prva težava nastopi že pri samem pridobivanju podatkov, saj portal AVP omogoča hkraten izvoz do največ 1000 zapisov. Zato moramo podatke izvoziti po letih. Na ta način dobimo 11 datotek v formatu MS Excel.\n",
    "\n",
    "Povezava do podatkov na AVP: http://nesrece.avp-rs.si/?zoom=2&lat=176250.11991&lon=532424.57558&layers=B00FFFFFFFFT&DatumOd=01.01.2010&DatumDo=31.12.2020&Regija=2&Obcina=70&Klasifikacija=L%2CH%2CS \n",
    "\n",
    "Za lažje nadaljnje delo je paket vseh 11 datotek na voljo v GitHub repozitoriju https://github.com/NenadCB/promet v obliki ZIP datoteke nesrece.zip. \n",
    "\n",
    "Da bo dostop do podatkov iz Jupyter beležnice (.ipynb) kar najbolj preprost, si lahko ustvarimo mapo 'nesreče' v mapi, kjer sicer shranjujemo Jupyter beležnice. V to mapo pa razpakiramo ZIP datoteko."
   ]
  },
  {
   "cell_type": "code",
   "execution_count": 2,
   "id": "8420707c-8327-4909-88d8-4fd0dcf2525f",
   "metadata": {},
   "outputs": [],
   "source": [
    "import os\n",
    "import pandas as pd\n",
    "from scipy.stats import chi2_contingency\n",
    "import matplotlib.pyplot as plt\n",
    "\n",
    "pd.set_option(\"display.precision\", 2)"
   ]
  },
  {
   "cell_type": "markdown",
   "id": "f03b98f2-b1b1-41e8-b0d7-ff9bf2972f39",
   "metadata": {},
   "source": [
    "### Uvoz podatkov\n",
    "\n",
    "Vse podatke, ki smo jih pridobili, želimo naložiti v eno tabelo, oziroma en `DataFrame`. Seveda pa podatke nalagamo iz vsake datoteke posebej. Podatke ene datoteke naložimo `DataFrame`, nato pa naloženo priključimo v skupni `DataFrame`. \n",
    "\n",
    "Imena datotek, ki jih bomo naložili, bi lahko zapisali v seznam in nato v zanki naložili datoteke eno za drugo. Vendar bi v primeru velikega števila vhodnih datotek ustvarjanje takšnega seznama zahtevalo veliko časa ter predstavljalo velik vir možnih napak.\n",
    "\n",
    "Zato bomo imena datotek pridobili kar iz operacijskega sistema. Vse datoteke so shranjene v mapi.\n",
    "Do map in datotek na disku pa lahko dostopamo s pomočjo funkcij knjižnice `os`. V nadaljevanju je vzorec, ki ga lahko uporabimo, če želimo pregledati vse datoteke v izbrani mapi.\n",
    "\n",
    "V prvem primeru bomo izpisali imena vseh datotek v mapi 'nesreče', ki se nahaja v mapi, kjer je shranjen tudi naš program. Ker bi v mapi lahko bile še druge datoteke, izmed vseh najdenih datotek izpišimo samo imena datotek s končnico '.xslx'. \n",
    "\n",
    "Uporabimo:\n",
    "- `scandir(ime_mape)`: funkcija vrne vsebino izbrane mape\n",
    "- `is_file()`: funkcija vrne True, če je objekt datoteka, če ne (npr. če je mapa) pa vrne False\n",
    "- `path.splitext(ime_datoteke)`: funkcija razcepi ime datoteke na ime in na končnico\n",
    "\n",
    "Več o funkcijah za pridobivanje informacij o datotekah in mapah: https://docs.python.org/3/library/os.path.html"
   ]
  },
  {
   "cell_type": "code",
   "execution_count": 4,
   "id": "cedcfd80-556c-4de9-bb1e-d852e40a7184",
   "metadata": {},
   "outputs": [
    {
     "name": "stdout",
     "output_type": "stream",
     "text": [
      "Vsebina mape: nesreče\n",
      "*************************\n",
      "datoteka: view_bpn_n_10\n",
      "datoteka: view_bpn_n_11\n",
      "datoteka: view_bpn_n_12\n",
      "datoteka: view_bpn_n_13\n",
      "datoteka: view_bpn_n_14\n",
      "datoteka: view_bpn_n_15\n",
      "datoteka: view_bpn_n_16\n",
      "datoteka: view_bpn_n_17\n",
      "datoteka: view_bpn_n_18\n",
      "datoteka: view_bpn_n_19\n",
      "datoteka: view_bpn_n_20\n"
     ]
    }
   ],
   "source": [
    "mapa = 'nesreče'\n",
    "vsebina_mape = os.scandir(mapa)\n",
    "\n",
    "print(f'Vsebina mape: {mapa}')\n",
    "print('*'*25)\n",
    "for el in vsebina_mape:\n",
    "    if el.is_file():\n",
    "        ime, koncnica = os.path.splitext(el.name)\n",
    "        if koncnica == '.xlsx':\n",
    "            print(f'datoteka: {ime}')\n"
   ]
  },
  {
   "cell_type": "markdown",
   "id": "d9826dd0-0920-4c3b-9949-b2d4038947d4",
   "metadata": {},
   "source": [
    "V našem primeru so podatki o nesrečah shranjeni po letih, in sicer so v eni datoteki zapisani podatki za eno leto. To je rezultat izvoza iz spletne strani, ki omogoča, da v eno datoteko izvozimo le 1000 vrstic. Če želimo analizirati podatke iz več let, jih bo za en izvoz praviloma preveč. Za analizo želimo podatke združiti. Zato bomo podatke iz vseh datotek naložili v en ```DataFrame```. Za nalaganje podatkov bomo uporabili pravkar pridobljena imena datotek. \n",
    "porabimo:\n",
    "- `read_excel(naslov_datoteke)`: funkcija uvozi podatke iz datoteke v `pandas.DataFrame`\n",
    "- `concat(seznam_df)`: funkcija združi podatke iz DataFrame-ov, ki jih naštejemo v seznamu\n",
    "\n",
    "Več o funkciji za branje Excel datotek: https://pandas.pydata.org/docs/reference/api/pandas.read_excel.html\n",
    "\n",
    "Po potrebi lahko z dodatnimi parametri pri klicu funkcije nastavljamo različne načine interpretacije podatkov v datoteki, kot npr. decimalni separator, koliko vrstic želimo pri branju preskočiti..."
   ]
  },
  {
   "cell_type": "code",
   "execution_count": 78,
   "id": "6ac3cd46-2b1d-4401-8c8a-fd03713937ff",
   "metadata": {},
   "outputs": [],
   "source": [
    "vsebina_mape = os.scandir('nesreče')\n",
    "\n",
    "df_nesrece = pd.DataFrame()\n",
    "for el in vsebina_mape:\n",
    "    if el.is_file():\n",
    "        ime, koncnica = os.path.splitext(el.name)\n",
    "        if koncnica == '.xlsx':\n",
    "            #naložimo eno datoteko v svoj DataFrame\n",
    "            eno_leto = pd.read_excel(f'nesreče/{el.name}')\n",
    "            #združimo pravkar naložene podatke z že naloženimi v df_nesrece\n",
    "            df_nesrece = pd.concat([df_nesrece, eno_leto])\n"
   ]
  },
  {
   "cell_type": "markdown",
   "id": "25ede25f-bfb6-490b-a7a8-e5060a1800fc",
   "metadata": {},
   "source": [
    "Rezultat združevanja je `DataFrame` z imenom df_nesrece, ki vsebuje podatke iz vseh datotek v mapi _nesreče_. "
   ]
  },
  {
   "cell_type": "markdown",
   "id": "0399a0bf-b909-4247-9c03-1d6de75f8ff0",
   "metadata": {},
   "source": [
    "### Pregled strukture in vsebine podatkov\n",
    "\n",
    "Prvi vtis o __strukturi podatkov__ dobimo s pregledom nabora stolpcev tabele."
   ]
  },
  {
   "cell_type": "code",
   "execution_count": 10,
   "id": "b32c767a-9f67-49eb-87a9-756b3151cc10",
   "metadata": {},
   "outputs": [
    {
     "data": {
      "text/plain": [
       "Index(['FID', 'key', 'regijao', 'obcinao', 'datum', 'mesec', 'dan', 'dannoc',\n",
       "       'ura_int1', 'vreme', 'povrsje', 'vozisce', 'promet', 'klas', 'priority',\n",
       "       'tip', 'vzrok', 'dc', 'lovc', 'nas', 'kraj', 'pcestao', 'cesta',\n",
       "       'podseko', 'odsek', 'stac', 'osebe', 'st_oseb', 'ishs', 'the_geom'],\n",
       "      dtype='object')"
      ]
     },
     "execution_count": 10,
     "metadata": {},
     "output_type": "execute_result"
    }
   ],
   "source": [
    "df_nesrece.columns"
   ]
  },
  {
   "cell_type": "markdown",
   "id": "5deca2c0-4465-4cb4-906e-78df1d1324bf",
   "metadata": {},
   "source": [
    " "
   ]
  },
  {
   "cell_type": "markdown",
   "id": "c32e85d4-34f5-4ffa-8dc5-c88ad8efeef7",
   "metadata": {},
   "source": [
    "Prvi vtis o __vsebini podatkov__ dobimo z izpisom nekaj vrstic iz tabele. Če zahtevamo prikaz celega ```DataFrame```, se bo izpisalo prvih 10 in zadnjih 10 vrstic. S funkcijama ```head()``` in ```tail()``` lahko prikažemo poljubno število vrstic v začetku ali na koncu tabele."
   ]
  },
  {
   "cell_type": "code",
   "execution_count": 12,
   "id": "fedecb57-dbfc-4025-9f2b-aab7d2948ad5",
   "metadata": {},
   "outputs": [
    {
     "data": {
      "text/html": [
       "<div>\n",
       "<style scoped>\n",
       "    .dataframe tbody tr th:only-of-type {\n",
       "        vertical-align: middle;\n",
       "    }\n",
       "\n",
       "    .dataframe tbody tr th {\n",
       "        vertical-align: top;\n",
       "    }\n",
       "\n",
       "    .dataframe thead th {\n",
       "        text-align: right;\n",
       "    }\n",
       "</style>\n",
       "<table border=\"1\" class=\"dataframe\">\n",
       "  <thead>\n",
       "    <tr style=\"text-align: right;\">\n",
       "      <th></th>\n",
       "      <th>FID</th>\n",
       "      <th>key</th>\n",
       "      <th>regijao</th>\n",
       "      <th>obcinao</th>\n",
       "      <th>datum</th>\n",
       "      <th>mesec</th>\n",
       "      <th>dan</th>\n",
       "      <th>dannoc</th>\n",
       "      <th>ura_int1</th>\n",
       "      <th>vreme</th>\n",
       "      <th>...</th>\n",
       "      <th>kraj</th>\n",
       "      <th>pcestao</th>\n",
       "      <th>cesta</th>\n",
       "      <th>podseko</th>\n",
       "      <th>odsek</th>\n",
       "      <th>stac</th>\n",
       "      <th>osebe</th>\n",
       "      <th>st_oseb</th>\n",
       "      <th>ishs</th>\n",
       "      <th>the_geom</th>\n",
       "    </tr>\n",
       "  </thead>\n",
       "  <tbody>\n",
       "    <tr>\n",
       "      <th>0</th>\n",
       "      <td>view_bpn_n.fid-5ebb29ff_1956bb4b5ee_6f86</td>\n",
       "      <td>100679170</td>\n",
       "      <td>PODRAVSKA</td>\n",
       "      <td>HOČE-SLIVNICA</td>\n",
       "      <td>2010-07-16</td>\n",
       "      <td>7</td>\n",
       "      <td>5</td>\n",
       "      <td>noč</td>\n",
       "      <td>02-03</td>\n",
       "      <td>O</td>\n",
       "      <td>...</td>\n",
       "      <td>C</td>\n",
       "      <td>ŠENTILJ-MB-K.DEKANI-KOPER</td>\n",
       "      <td>A1</td>\n",
       "      <td>MARIBOR PTUJSKA-SLIVNICA</td>\n",
       "      <td>66.0</td>\n",
       "      <td>200.0</td>\n",
       "      <td>{D;OA;[25-34];P;0;0;0,N;TV;[25-34];N;0;0;0,N;P...</td>\n",
       "      <td>3</td>\n",
       "      <td>False</td>\n",
       "      <td>POINT (552579 152968)</td>\n",
       "    </tr>\n",
       "    <tr>\n",
       "      <th>1</th>\n",
       "      <td>view_bpn_n.fid-5ebb29ff_1956bb4b5ee_6f87</td>\n",
       "      <td>100688270</td>\n",
       "      <td>PODRAVSKA</td>\n",
       "      <td>MARIBOR</td>\n",
       "      <td>2010-11-05</td>\n",
       "      <td>11</td>\n",
       "      <td>5</td>\n",
       "      <td>noč</td>\n",
       "      <td>18-19</td>\n",
       "      <td>J</td>\n",
       "      <td>...</td>\n",
       "      <td>C</td>\n",
       "      <td>MARIBOR</td>\n",
       "      <td>33</td>\n",
       "      <td>KREKOVA ULICA</td>\n",
       "      <td>NaN</td>\n",
       "      <td>NaN</td>\n",
       "      <td>{D;MK;[55-64];N;0;0;0,N;PE;[55-64];0;0;0;0}</td>\n",
       "      <td>2</td>\n",
       "      <td>True</td>\n",
       "      <td>POINT (549716 157726)</td>\n",
       "    </tr>\n",
       "    <tr>\n",
       "      <th>2</th>\n",
       "      <td>view_bpn_n.fid-5ebb29ff_1956bb4b5ee_6f88</td>\n",
       "      <td>100684435</td>\n",
       "      <td>PODRAVSKA</td>\n",
       "      <td>MARIBOR</td>\n",
       "      <td>2010-09-18</td>\n",
       "      <td>9</td>\n",
       "      <td>6</td>\n",
       "      <td>noč</td>\n",
       "      <td>04-05</td>\n",
       "      <td>D</td>\n",
       "      <td>...</td>\n",
       "      <td>C</td>\n",
       "      <td>MARIBOR</td>\n",
       "      <td>33</td>\n",
       "      <td>KRALJEVIČA MARKA ULICA</td>\n",
       "      <td>NaN</td>\n",
       "      <td>NaN</td>\n",
       "      <td>{D;PE;[25-34];0;0;0;0,N;AV;[45-54];N;N;0;N}</td>\n",
       "      <td>2</td>\n",
       "      <td>True</td>\n",
       "      <td>POINT (551259 157454)</td>\n",
       "    </tr>\n",
       "    <tr>\n",
       "      <th>3</th>\n",
       "      <td>view_bpn_n.fid-5ebb29ff_1956bb4b5ee_6f89</td>\n",
       "      <td>100684988</td>\n",
       "      <td>PODRAVSKA</td>\n",
       "      <td>MARIBOR</td>\n",
       "      <td>2010-09-22</td>\n",
       "      <td>9</td>\n",
       "      <td>3</td>\n",
       "      <td>dan</td>\n",
       "      <td>16-17</td>\n",
       "      <td>J</td>\n",
       "      <td>...</td>\n",
       "      <td>C</td>\n",
       "      <td>MARIBOR</td>\n",
       "      <td>33</td>\n",
       "      <td>ULICA MOŠE PIJADA</td>\n",
       "      <td>NaN</td>\n",
       "      <td>NaN</td>\n",
       "      <td>{D;MK;[45-54];0;0;0;0}</td>\n",
       "      <td>1</td>\n",
       "      <td>True</td>\n",
       "      <td>POINT (549693 156822)</td>\n",
       "    </tr>\n",
       "    <tr>\n",
       "      <th>4</th>\n",
       "      <td>view_bpn_n.fid-5ebb29ff_1956bb4b5ee_6f8a</td>\n",
       "      <td>100673389</td>\n",
       "      <td>PODRAVSKA</td>\n",
       "      <td>MARIBOR</td>\n",
       "      <td>2010-05-04</td>\n",
       "      <td>5</td>\n",
       "      <td>2</td>\n",
       "      <td>dan</td>\n",
       "      <td>06-07</td>\n",
       "      <td>O</td>\n",
       "      <td>...</td>\n",
       "      <td>C</td>\n",
       "      <td>MB(KOR.MOST)-RUŠE-SELNICA</td>\n",
       "      <td>435</td>\n",
       "      <td>MARIBOR-RUŠE</td>\n",
       "      <td>1431.0</td>\n",
       "      <td>2400.0</td>\n",
       "      <td>{D;OA;[45-54];0;0;0;0,N;TV;[35-44];N;0;0;0}</td>\n",
       "      <td>2</td>\n",
       "      <td>False</td>\n",
       "      <td>POINT (545962 157196)</td>\n",
       "    </tr>\n",
       "  </tbody>\n",
       "</table>\n",
       "<p>5 rows × 30 columns</p>\n",
       "</div>"
      ],
      "text/plain": [
       "                                        FID        key    regijao  \\\n",
       "0  view_bpn_n.fid-5ebb29ff_1956bb4b5ee_6f86  100679170  PODRAVSKA   \n",
       "1  view_bpn_n.fid-5ebb29ff_1956bb4b5ee_6f87  100688270  PODRAVSKA   \n",
       "2  view_bpn_n.fid-5ebb29ff_1956bb4b5ee_6f88  100684435  PODRAVSKA   \n",
       "3  view_bpn_n.fid-5ebb29ff_1956bb4b5ee_6f89  100684988  PODRAVSKA   \n",
       "4  view_bpn_n.fid-5ebb29ff_1956bb4b5ee_6f8a  100673389  PODRAVSKA   \n",
       "\n",
       "         obcinao      datum  mesec  dan dannoc ura_int1 vreme  ... kraj  \\\n",
       "0  HOČE-SLIVNICA 2010-07-16      7    5    noč    02-03     O  ...    C   \n",
       "1        MARIBOR 2010-11-05     11    5    noč    18-19     J  ...    C   \n",
       "2        MARIBOR 2010-09-18      9    6    noč    04-05     D  ...    C   \n",
       "3        MARIBOR 2010-09-22      9    3    dan    16-17     J  ...    C   \n",
       "4        MARIBOR 2010-05-04      5    2    dan    06-07     O  ...    C   \n",
       "\n",
       "                     pcestao cesta                   podseko   odsek    stac  \\\n",
       "0  ŠENTILJ-MB-K.DEKANI-KOPER    A1  MARIBOR PTUJSKA-SLIVNICA    66.0   200.0   \n",
       "1                    MARIBOR    33             KREKOVA ULICA     NaN     NaN   \n",
       "2                    MARIBOR    33    KRALJEVIČA MARKA ULICA     NaN     NaN   \n",
       "3                    MARIBOR    33         ULICA MOŠE PIJADA     NaN     NaN   \n",
       "4  MB(KOR.MOST)-RUŠE-SELNICA   435              MARIBOR-RUŠE  1431.0  2400.0   \n",
       "\n",
       "                                               osebe st_oseb   ishs  \\\n",
       "0  {D;OA;[25-34];P;0;0;0,N;TV;[25-34];N;0;0;0,N;P...       3  False   \n",
       "1        {D;MK;[55-64];N;0;0;0,N;PE;[55-64];0;0;0;0}       2   True   \n",
       "2        {D;PE;[25-34];0;0;0;0,N;AV;[45-54];N;N;0;N}       2   True   \n",
       "3                             {D;MK;[45-54];0;0;0;0}       1   True   \n",
       "4        {D;OA;[45-54];0;0;0;0,N;TV;[35-44];N;0;0;0}       2  False   \n",
       "\n",
       "                the_geom  \n",
       "0  POINT (552579 152968)  \n",
       "1  POINT (549716 157726)  \n",
       "2  POINT (551259 157454)  \n",
       "3  POINT (549693 156822)  \n",
       "4  POINT (545962 157196)  \n",
       "\n",
       "[5 rows x 30 columns]"
      ]
     },
     "execution_count": 12,
     "metadata": {},
     "output_type": "execute_result"
    }
   ],
   "source": [
    "df_nesrece.head(5)"
   ]
  },
  {
   "cell_type": "markdown",
   "id": "67209b08-af0f-44c0-838b-ccac72bd20e0",
   "metadata": {},
   "source": [
    "V tabeli vidimo, da so določeni stolpci za naše analize brez pravega pomena, kot npr. FID ali key ali pa regijao, ki vsebuje enako vrednost v vseh vrsticah, saj smo tako izbirali podatke. Takšne stolpce bomo pred izvedbo analiz običajno izbrisali iz tabele (glej spodaj). \n",
    "\n",
    "Ko smo dobili vtis o vsebini, je smiselno prevertiti kakšne __podatkovne tipe__ je funkcija nalaganja podatkov prepoznala po posameznih stolpcih. Vrsta podatkov, tako po naravi same merjene količine kot tudi glede na podatkovni tip, namreč pomembno vpliva na to, kakšne analize so nam na razpolago."
   ]
  },
  {
   "cell_type": "code",
   "execution_count": 45,
   "id": "36097e7d-3a0a-4528-85a8-31832e180655",
   "metadata": {},
   "outputs": [
    {
     "name": "stdout",
     "output_type": "stream",
     "text": [
      "<class 'pandas.core.frame.DataFrame'>\n",
      "Index: 5931 entries, 0 to 319\n",
      "Data columns (total 30 columns):\n",
      " #   Column    Non-Null Count  Dtype         \n",
      "---  ------    --------------  -----         \n",
      " 0   FID       5931 non-null   object        \n",
      " 1   key       5931 non-null   int64         \n",
      " 2   regijao   5931 non-null   object        \n",
      " 3   obcinao   5931 non-null   object        \n",
      " 4   datum     5931 non-null   datetime64[ns]\n",
      " 5   mesec     5931 non-null   int64         \n",
      " 6   dan       5931 non-null   int64         \n",
      " 7   dannoc    4172 non-null   object        \n",
      " 8   ura_int1  5931 non-null   object        \n",
      " 9   vreme     5931 non-null   object        \n",
      " 10  povrsje   5931 non-null   object        \n",
      " 11  vozisce   5931 non-null   object        \n",
      " 12  promet    5931 non-null   object        \n",
      " 13  klas      5931 non-null   object        \n",
      " 14  priority  5931 non-null   int64         \n",
      " 15  tip       5931 non-null   object        \n",
      " 16  vzrok     5931 non-null   object        \n",
      " 17  dc        4172 non-null   object        \n",
      " 18  lovc      5931 non-null   object        \n",
      " 19  nas       5931 non-null   object        \n",
      " 20  kraj      5931 non-null   object        \n",
      " 21  pcestao   5931 non-null   object        \n",
      " 22  cesta     5931 non-null   object        \n",
      " 23  podseko   5931 non-null   object        \n",
      " 24  odsek     2213 non-null   float64       \n",
      " 25  stac      2213 non-null   float64       \n",
      " 26  osebe     5931 non-null   object        \n",
      " 27  st_oseb   5931 non-null   int64         \n",
      " 28  ishs      5931 non-null   bool          \n",
      " 29  the_geom  5931 non-null   object        \n",
      "dtypes: bool(1), datetime64[ns](1), float64(2), int64(5), object(21)\n",
      "memory usage: 1.4+ MB\n"
     ]
    }
   ],
   "source": [
    "df_nesrece.info()"
   ]
  },
  {
   "cell_type": "markdown",
   "id": "ea888499-4356-4f45-9e3b-03aaadf7e6c4",
   "metadata": {},
   "source": [
    "<br>V izpisu vidimo, da je precej stolpcev opredeljenih kot splošen tip ```object```, po večini bodo ti podatki obravnavani kot znakovni niz. Vidimo tudi, da sta podatka __odsek__ in __stac__ prepoznana kot števila z decimalno vejico, kar je vsebinska napaka in nam lahko povzroča težave pri iskanju in filtriranju podatkov. Prav tako vidimo, da je v nekaterih stolpcih število zapisov brez podatka (non-null) manjše od skupnega števila vrstic v tabeli, kar lahko vpliva na analize teh stolpcev zaradi manjkajočih podatkov.\n",
    "\n",
    "Podrobneje lahko preverimo še nabore vrednosti po posameznih stolpcih.\n",
    "\n",
    "Uporabimo:\n",
    "- `nunique`: funkcija izpiše število unikatnih podatkov v stolpcu\n",
    "- `value_counts`: funkcija izpiše kolikokrat se določena vrednost v stolpcu ponovi"
   ]
  },
  {
   "cell_type": "code",
   "execution_count": 96,
   "id": "9289e137-eb15-4ae9-a42b-1b82850878e5",
   "metadata": {},
   "outputs": [
    {
     "name": "stdout",
     "output_type": "stream",
     "text": [
      "v stolpcu \"vzrok\" se nahaja 11 različnih vrednosti\n",
      "\n",
      "število pojavitev posamične vrednosti v tabeli:\n",
      "vzrok\n",
      "PD    1796\n",
      "VR    1287\n",
      "OS     697\n",
      "HI     693\n",
      "PV     669\n",
      "SV     627\n",
      "NP      73\n",
      "PR      60\n",
      "VO      16\n",
      "CE      11\n",
      "TO       2\n",
      "Name: count, dtype: int64\n"
     ]
    }
   ],
   "source": [
    "print(f'v stolpcu \"vzrok\" se nahaja {df_nesrece[\"vzrok\"].nunique()} različnih vrednosti')\n",
    "print()\n",
    "print('število pojavitev posamične vrednosti v tabeli:')\n",
    "print(df_nesrece['vzrok'].value_counts())"
   ]
  },
  {
   "cell_type": "markdown",
   "id": "f19ef78a-ccdc-4e0b-8362-a5f58370370d",
   "metadata": {},
   "source": [
    "Takšne stolpce je smiselno pretvoriti v podatkovni tip ```Categorical```, saj zasede bistveno manj prostora in ker je podatkovni tip konkretneje določen, funkcije nad takšnimi stolpci delujejo hitreje. Podatke v celem stolpcu zato prepišemo z novimi vrednostmi, ki sicer ohranijo vsebino, vendar so sedaj drugega podatkovnega tipa."
   ]
  },
  {
   "cell_type": "code",
   "execution_count": 51,
   "id": "1900a16d-97e1-4a52-921a-bfc25a5a8d95",
   "metadata": {},
   "outputs": [],
   "source": [
    "df_nesrece['vzrok'] = pd.Categorical(df_nesrece['vzrok'])"
   ]
  },
  {
   "cell_type": "markdown",
   "id": "99834a78-dbcf-470a-aa28-b76fe744f05f",
   "metadata": {},
   "source": [
    "preverimo tip podatkov v stolpcu"
   ]
  },
  {
   "cell_type": "code",
   "execution_count": 53,
   "id": "1b6749bd-7ff4-4bb3-a866-81a96cf4f9b6",
   "metadata": {},
   "outputs": [
    {
     "data": {
      "text/plain": [
       "CategoricalDtype(categories=['CE', 'HI', 'NP', 'OS', 'PD', 'PR', 'PV', 'SV', 'TO', 'VO',\n",
       "                  'VR'],\n",
       ", ordered=False, categories_dtype=object)"
      ]
     },
     "execution_count": 53,
     "metadata": {},
     "output_type": "execute_result"
    }
   ],
   "source": [
    "df_nesrece['vzrok'].dtype"
   ]
  },
  {
   "cell_type": "markdown",
   "id": "2618a9a3-c3da-4ca7-a78c-65394216a2ee",
   "metadata": {},
   "source": [
    "V kategorije pretvorimo še preostale stolpce, ki vsebujejo takšne podatke. \n",
    "\n",
    "Najprej poglejmo, kdo so kandidati:"
   ]
  },
  {
   "cell_type": "code",
   "execution_count": 55,
   "id": "4ccf547e-dfc4-4e6b-85c6-ce4e9c420e2d",
   "metadata": {},
   "outputs": [
    {
     "data": {
      "text/plain": [
       "FID         5931\n",
       "key         5931\n",
       "regijao        1\n",
       "obcinao        5\n",
       "datum       2924\n",
       "mesec         12\n",
       "dan            7\n",
       "dannoc         2\n",
       "ura_int1      24\n",
       "vreme          6\n",
       "povrsje        9\n",
       "vozisce        5\n",
       "promet         5\n",
       "klas           3\n",
       "priority       3\n",
       "tip           10\n",
       "vzrok         11\n",
       "dc             2\n",
       "lovc           9\n",
       "nas            2\n",
       "kraj          16\n",
       "pcestao       62\n",
       "cesta         75\n",
       "podseko      444\n",
       "odsek        279\n",
       "stac         334\n",
       "osebe       2841\n",
       "st_oseb       12\n",
       "ishs           2\n",
       "the_geom    2648\n",
       "dtype: int64"
      ]
     },
     "execution_count": 55,
     "metadata": {},
     "output_type": "execute_result"
    }
   ],
   "source": [
    "df_nesrece.nunique()"
   ]
  },
  {
   "cell_type": "code",
   "execution_count": 10,
   "id": "4676b908-5b51-4a11-98b0-fb9ccac01cc9",
   "metadata": {},
   "outputs": [],
   "source": [
    "stolpci = ['dannoc', 'vreme', 'povrsje', 'vozisce', 'promet', 'klas', 'priority',\n",
    "       'tip', 'vzrok', 'dc', 'lovc', 'nas']\n",
    "\n",
    "for s in stolpci:\n",
    "    df_nesrece[s] = pd.Categorical(df_nesrece[s])\n",
    "    "
   ]
  },
  {
   "cell_type": "markdown",
   "id": "7f4f9d37-ac75-41b9-8d5f-92e1f0af100c",
   "metadata": {},
   "source": [
    "Nekaj več dela bomo imeli s pretvorbo podatkov o odsekih. Pri nalaganju podatkov so bili ti podatki prepoznani kot števila z decimalno vejico. Podatke lahko sicer preprosto pretvorimo v podatkovni tip `string`, vendar težava nastopi, ker so se že pri nalaganju podatkov pri pretvorbi izgubile vodeče ničle pri zapisu številke odseka, pri pretvorbi v znakovni niz pa se ohrani tudi decimalna pika in decimalke."
   ]
  },
  {
   "cell_type": "code",
   "execution_count": 138,
   "id": "5cf3eccb-106a-4153-8deb-56ea6d4e3f44",
   "metadata": {},
   "outputs": [],
   "source": [
    "df_nesrece['odsek'] = df_nesrece['odsek'].astype(str)"
   ]
  },
  {
   "cell_type": "code",
   "execution_count": 16,
   "id": "d9fedaa5-b6e5-4cc8-a4c6-f491cc11afb3",
   "metadata": {},
   "outputs": [
    {
     "data": {
      "text/plain": [
       "0      66.0\n",
       "1       nan\n",
       "2       nan\n",
       "3       nan\n",
       "4    1431.0\n",
       "Name: odsek, dtype: object"
      ]
     },
     "execution_count": 16,
     "metadata": {},
     "output_type": "execute_result"
    }
   ],
   "source": [
    "df_nesrece['odsek'].head(5)"
   ]
  },
  {
   "cell_type": "markdown",
   "id": "a468ca98-6ee9-45a7-bcf5-8e43bbaa2f18",
   "metadata": {},
   "source": [
    "Podatke lahko popravimo tako, da za vsako vrstico preberemo obstoječ podatek ter ga uporabimo za izračun nove vrednosti, s katero bomo prepisali obstoječo vrednost.\n",
    "\n",
    "Preslikavo lahko naredimo tako, da v zanki obdelamo vse vrstice tabele. Vendar ima `DataFrame` za primer, ko želimo obdelati vse vrstice, na voljo funkcijo `apply()`. Tej funkciji lahko posredujemo predpis v obliki funkcije, ki jo sami izdelamo, in naj se uporabi za vse vrstice v tabeli. Funkcija `apply()` bo samodejno aplicirala našo poljubno funkcijo tako, da bo našo funkcijo poklicala in ji kot vhodni podatek posredovala vrednost iz tekoče vrstice. \n",
    "\n",
    "Preslikavo iz stare v novo vrednost številke odseka bomo tako definirali kot funkcijo, ki sprejme en parameter (staro vrednost). V funkciji bomo izračunali novo vrednost in jo vrnili kot rezultat. "
   ]
  },
  {
   "cell_type": "markdown",
   "id": "ee2c1174-5999-43d6-9a53-844d849de9f3",
   "metadata": {},
   "source": [
    "#### definicija lastne funkcije\n",
    "\n",
    "Najprej si poglejmo, kako v Pythonu sploh definiramo funkcijo. \n",
    "\n",
    "Kot je razvidno iz primera spodaj, določimo poljubno ime funkcije in v oklepajih navedemo poljubno število vhodnih parametrov. Preko vhodnih parametrov funkciji ob klicu posredujemo dejanske vrednosti.\n",
    "\n",
    "Parametri so spremenljivke s katerimi izračunamo želeno vrednost. \n",
    "\n",
    "Rezultat funkcije vrnemo z ukazom `return`."
   ]
  },
  {
   "cell_type": "code",
   "execution_count": 110,
   "id": "40158e2e-19b1-4757-91e0-4deb2bd7415c",
   "metadata": {},
   "outputs": [
    {
     "data": {
      "text/plain": [
       "16"
      ]
     },
     "execution_count": 110,
     "metadata": {},
     "output_type": "execute_result"
    }
   ],
   "source": [
    "def moja_funkcija(a, b, c):\n",
    "    d = a + b\n",
    "    d = d * c\n",
    "    return d\n",
    "\n",
    "#lastno funkcijo pokličemo kot katerokoli drugo funkcijo\n",
    "x, y, z = 3, 5, 2\n",
    "rezultat = moja_funkcija(x, y, z)\n",
    "\n",
    "rezultat"
   ]
  },
  {
   "cell_type": "markdown",
   "id": "97c6f3a5-a5cd-4bba-8838-c813540fddcd",
   "metadata": {},
   "source": [
    "Na podoben način ustvarimo funkcijo `pretvori_odsek()`, s katero bomo obstoječe podatke o odsekih pravilno oblikovali.\n",
    "\n",
    "Iz tabele s podatki je razvidno, da lahko ločimo med vrsticami, kjer podatka o odseku ni, ter med vrsticami, kjer podatek o odseku obstaja. Če podatka ni, naj funkcija vrne vrednost `NaN`. To je  vrednost, ki označuje, da podatek manjka. Vrednost `NaN` lahko ustvarimo na več načinov, eden izmed teh je, da pokličemo funkcijo `float()`, ki ji posredujemo znakovni niz 'nan' - torej `float('nan')`.\n",
    "\n",
    "V primerih, ko podatek obstaja, je iz primerov razvidno, da se zmeraj konča s piko on ničlo (npr. '66.0'). Zadnja dva znaka sta odveč in ju bomo iz niza odstranili. Hkrati je potrebno zagotoviti, da če je številka odseka krajša od štirih znakov, da jo na levi strani dopolnimo z vodečimi ničlami.  \n",
    "\n",
    "Spodaj sta dve možnosti, kako bi lahko zapisali funkcijo. Prvi primer prikazuje dopolnjevanje z vodečimi ničlami z uporabo rezanja besedilnih nizov, drugi primer pa isto nalogo opravi z uporabo f-stringa ter oblikovanja. Katerikoli pristop uberemo, je enako dobro.\n",
    "\n",
    ">Spomnimo: Formate za oblikovanje f-stringov najdemo na https://fstring.help/cheat/ "
   ]
  },
  {
   "cell_type": "code",
   "execution_count": 125,
   "id": "2d7b8776-70ae-434b-8c42-b8b690319f8b",
   "metadata": {},
   "outputs": [
    {
     "data": {
      "text/plain": [
       "'0066'"
      ]
     },
     "execution_count": 125,
     "metadata": {},
     "output_type": "execute_result"
    }
   ],
   "source": [
    "def pretvori_odsek(o):\n",
    "    if o == 'nan':\n",
    "        return float('nan')       # float('nan') vrne 'not a number', kar pomeni manjkajočo vrednost podatka\n",
    "    else:                         #primer: 66.0 \n",
    "        rez = '0000' + o[:-2]     # rez = '0000' + '66' = '000066' - uporabi vse razen zadnja dva znaka\n",
    "        rez = rez[-4:]            # rez = '0066'  - uporabi samo zadnje štiri znake \n",
    "        return rez\n",
    "\n",
    "def pretvori_odsek(o):\n",
    "    if o == 'nan':\n",
    "        return float('nan')       \n",
    "    else:\n",
    "    # uporabi številko brez zadnjih dveh znakov in jo dopolni z 0 iz leve strani do dolžine štiri\n",
    "        return f'{o[:-2]:0>4}'  \n",
    "        \n",
    "pretvori_odsek('66.0')  #preizkusimo delovanje funkcije, preden jo uporabimo nad vsemi podatki"
   ]
  },
  {
   "cell_type": "markdown",
   "id": "738e5226-11e6-40e0-adb8-826061b516be",
   "metadata": {},
   "source": [
    "Pravkar ustvarjeno funkcijo apliciramo na vse vrstice tabele nesreč. \n",
    "\n",
    "Funkcija `apply()` bo iz stolpca, ki ga uporabimo za klic funkcije (v našem primeru 'odsek'), prebrala vrednost ter jo posredovala v funkcijo `pretvori_odsek()`. Funkcija `pretvori_odsek()` vrne izračunano vrednost funkciji `apply()`, le-ta pa jo vrne kot rezultat, ki ga zapišemo nazaj v isti stolpec (kar v splošnem ni nujno, vendar starega \"pokvarjenega\" podatka o odsekih več ne potrebujemo). "
   ]
  },
  {
   "cell_type": "code",
   "execution_count": 140,
   "id": "567053e8-ddcb-4be5-a776-aada7440345e",
   "metadata": {},
   "outputs": [
    {
     "data": {
      "text/html": [
       "<div>\n",
       "<style scoped>\n",
       "    .dataframe tbody tr th:only-of-type {\n",
       "        vertical-align: middle;\n",
       "    }\n",
       "\n",
       "    .dataframe tbody tr th {\n",
       "        vertical-align: top;\n",
       "    }\n",
       "\n",
       "    .dataframe thead th {\n",
       "        text-align: right;\n",
       "    }\n",
       "</style>\n",
       "<table border=\"1\" class=\"dataframe\">\n",
       "  <thead>\n",
       "    <tr style=\"text-align: right;\">\n",
       "      <th></th>\n",
       "      <th>odsek</th>\n",
       "      <th>stac</th>\n",
       "    </tr>\n",
       "  </thead>\n",
       "  <tbody>\n",
       "    <tr>\n",
       "      <th>0</th>\n",
       "      <td>0066</td>\n",
       "      <td>200.0</td>\n",
       "    </tr>\n",
       "    <tr>\n",
       "      <th>1</th>\n",
       "      <td>NaN</td>\n",
       "      <td>NaN</td>\n",
       "    </tr>\n",
       "    <tr>\n",
       "      <th>2</th>\n",
       "      <td>NaN</td>\n",
       "      <td>NaN</td>\n",
       "    </tr>\n",
       "    <tr>\n",
       "      <th>3</th>\n",
       "      <td>NaN</td>\n",
       "      <td>NaN</td>\n",
       "    </tr>\n",
       "    <tr>\n",
       "      <th>4</th>\n",
       "      <td>1431</td>\n",
       "      <td>2400.0</td>\n",
       "    </tr>\n",
       "    <tr>\n",
       "      <th>...</th>\n",
       "      <td>...</td>\n",
       "      <td>...</td>\n",
       "    </tr>\n",
       "    <tr>\n",
       "      <th>315</th>\n",
       "      <td>0236</td>\n",
       "      <td>1.0</td>\n",
       "    </tr>\n",
       "    <tr>\n",
       "      <th>316</th>\n",
       "      <td>0637</td>\n",
       "      <td>2.0</td>\n",
       "    </tr>\n",
       "    <tr>\n",
       "      <th>317</th>\n",
       "      <td>1605</td>\n",
       "      <td>0.0</td>\n",
       "    </tr>\n",
       "    <tr>\n",
       "      <th>318</th>\n",
       "      <td>0534</td>\n",
       "      <td>42.0</td>\n",
       "    </tr>\n",
       "    <tr>\n",
       "      <th>319</th>\n",
       "      <td>0662</td>\n",
       "      <td>72.0</td>\n",
       "    </tr>\n",
       "  </tbody>\n",
       "</table>\n",
       "<p>5931 rows × 2 columns</p>\n",
       "</div>"
      ],
      "text/plain": [
       "    odsek    stac\n",
       "0    0066   200.0\n",
       "1     NaN     NaN\n",
       "2     NaN     NaN\n",
       "3     NaN     NaN\n",
       "4    1431  2400.0\n",
       "..    ...     ...\n",
       "315  0236     1.0\n",
       "316  0637     2.0\n",
       "317  1605     0.0\n",
       "318  0534    42.0\n",
       "319  0662    72.0\n",
       "\n",
       "[5931 rows x 2 columns]"
      ]
     },
     "execution_count": 140,
     "metadata": {},
     "output_type": "execute_result"
    }
   ],
   "source": [
    "df_nesrece['odsek'] = df_nesrece['odsek'].apply(pretvori_odsek)\n",
    "\n",
    "#preverimo rezulate\n",
    "df_nesrece[['odsek', 'stac']]"
   ]
  },
  {
   "cell_type": "markdown",
   "id": "4e7d445b-6243-4022-85d9-1de2c3db1d8c",
   "metadata": {},
   "source": [
    "### Opisne statistike\n",
    "Preverimo osnovne opisne statistike izbranih stolpcev. Parameter inlcude='all' vključi tudi stolpce, ki niso numerični.\n",
    "\n",
    "S funkcijo `describe()` prikažemo opisne statistike za vse stolpce tabele. Lahko pa prikaz omejimo. Stolpce, za katere želimo prikazati opisne statistike, v tem primeru podamo kot seznam:"
   ]
  },
  {
   "cell_type": "code",
   "execution_count": 22,
   "id": "5a0d87dd-1e27-49e1-85ac-f8e8176f100d",
   "metadata": {},
   "outputs": [
    {
     "data": {
      "text/html": [
       "<div>\n",
       "<style scoped>\n",
       "    .dataframe tbody tr th:only-of-type {\n",
       "        vertical-align: middle;\n",
       "    }\n",
       "\n",
       "    .dataframe tbody tr th {\n",
       "        vertical-align: top;\n",
       "    }\n",
       "\n",
       "    .dataframe thead th {\n",
       "        text-align: right;\n",
       "    }\n",
       "</style>\n",
       "<table border=\"1\" class=\"dataframe\">\n",
       "  <thead>\n",
       "    <tr style=\"text-align: right;\">\n",
       "      <th></th>\n",
       "      <th>dannoc</th>\n",
       "      <th>dan</th>\n",
       "      <th>st_oseb</th>\n",
       "    </tr>\n",
       "  </thead>\n",
       "  <tbody>\n",
       "    <tr>\n",
       "      <th>count</th>\n",
       "      <td>4172</td>\n",
       "      <td>5931.00</td>\n",
       "      <td>5931.00</td>\n",
       "    </tr>\n",
       "    <tr>\n",
       "      <th>unique</th>\n",
       "      <td>2</td>\n",
       "      <td>NaN</td>\n",
       "      <td>NaN</td>\n",
       "    </tr>\n",
       "    <tr>\n",
       "      <th>top</th>\n",
       "      <td>dan</td>\n",
       "      <td>NaN</td>\n",
       "      <td>NaN</td>\n",
       "    </tr>\n",
       "    <tr>\n",
       "      <th>freq</th>\n",
       "      <td>3238</td>\n",
       "      <td>NaN</td>\n",
       "      <td>NaN</td>\n",
       "    </tr>\n",
       "    <tr>\n",
       "      <th>mean</th>\n",
       "      <td>NaN</td>\n",
       "      <td>3.13</td>\n",
       "      <td>2.21</td>\n",
       "    </tr>\n",
       "    <tr>\n",
       "      <th>std</th>\n",
       "      <td>NaN</td>\n",
       "      <td>1.82</td>\n",
       "      <td>1.05</td>\n",
       "    </tr>\n",
       "    <tr>\n",
       "      <th>min</th>\n",
       "      <td>NaN</td>\n",
       "      <td>0.00</td>\n",
       "      <td>1.00</td>\n",
       "    </tr>\n",
       "    <tr>\n",
       "      <th>25%</th>\n",
       "      <td>NaN</td>\n",
       "      <td>2.00</td>\n",
       "      <td>2.00</td>\n",
       "    </tr>\n",
       "    <tr>\n",
       "      <th>50%</th>\n",
       "      <td>NaN</td>\n",
       "      <td>3.00</td>\n",
       "      <td>2.00</td>\n",
       "    </tr>\n",
       "    <tr>\n",
       "      <th>75%</th>\n",
       "      <td>NaN</td>\n",
       "      <td>5.00</td>\n",
       "      <td>3.00</td>\n",
       "    </tr>\n",
       "    <tr>\n",
       "      <th>max</th>\n",
       "      <td>NaN</td>\n",
       "      <td>6.00</td>\n",
       "      <td>17.00</td>\n",
       "    </tr>\n",
       "  </tbody>\n",
       "</table>\n",
       "</div>"
      ],
      "text/plain": [
       "       dannoc      dan  st_oseb\n",
       "count    4172  5931.00  5931.00\n",
       "unique      2      NaN      NaN\n",
       "top       dan      NaN      NaN\n",
       "freq     3238      NaN      NaN\n",
       "mean      NaN     3.13     2.21\n",
       "std       NaN     1.82     1.05\n",
       "min       NaN     0.00     1.00\n",
       "25%       NaN     2.00     2.00\n",
       "50%       NaN     3.00     2.00\n",
       "75%       NaN     5.00     3.00\n",
       "max       NaN     6.00    17.00"
      ]
     },
     "execution_count": 22,
     "metadata": {},
     "output_type": "execute_result"
    }
   ],
   "source": [
    "df_nesrece[['dannoc','dan','st_oseb']].describe(include='all')"
   ]
  },
  {
   "cell_type": "markdown",
   "id": "9d349e04-789a-469b-8f63-3d339dac50f9",
   "metadata": {},
   "source": [
    "DataFrame očistimo stolpcev, ki niso zanimivi za analize."
   ]
  },
  {
   "cell_type": "code",
   "execution_count": 24,
   "id": "c3b83c43-1e16-44a3-854a-6586705add79",
   "metadata": {},
   "outputs": [
    {
     "data": {
      "text/html": [
       "<div>\n",
       "<style scoped>\n",
       "    .dataframe tbody tr th:only-of-type {\n",
       "        vertical-align: middle;\n",
       "    }\n",
       "\n",
       "    .dataframe tbody tr th {\n",
       "        vertical-align: top;\n",
       "    }\n",
       "\n",
       "    .dataframe thead th {\n",
       "        text-align: right;\n",
       "    }\n",
       "</style>\n",
       "<table border=\"1\" class=\"dataframe\">\n",
       "  <thead>\n",
       "    <tr style=\"text-align: right;\">\n",
       "      <th></th>\n",
       "      <th>obcinao</th>\n",
       "      <th>datum</th>\n",
       "      <th>mesec</th>\n",
       "      <th>dan</th>\n",
       "      <th>dannoc</th>\n",
       "      <th>ura_int1</th>\n",
       "      <th>vreme</th>\n",
       "      <th>povrsje</th>\n",
       "      <th>vozisce</th>\n",
       "      <th>promet</th>\n",
       "      <th>...</th>\n",
       "      <th>kraj</th>\n",
       "      <th>pcestao</th>\n",
       "      <th>cesta</th>\n",
       "      <th>podseko</th>\n",
       "      <th>odsek</th>\n",
       "      <th>stac</th>\n",
       "      <th>osebe</th>\n",
       "      <th>st_oseb</th>\n",
       "      <th>ishs</th>\n",
       "      <th>the_geom</th>\n",
       "    </tr>\n",
       "  </thead>\n",
       "  <tbody>\n",
       "    <tr>\n",
       "      <th>0</th>\n",
       "      <td>HOČE-SLIVNICA</td>\n",
       "      <td>2010-07-16</td>\n",
       "      <td>7</td>\n",
       "      <td>5</td>\n",
       "      <td>noč</td>\n",
       "      <td>02-03</td>\n",
       "      <td>O</td>\n",
       "      <td>SU</td>\n",
       "      <td>AH</td>\n",
       "      <td>N</td>\n",
       "      <td>...</td>\n",
       "      <td>C</td>\n",
       "      <td>ŠENTILJ-MB-K.DEKANI-KOPER</td>\n",
       "      <td>A1</td>\n",
       "      <td>MARIBOR PTUJSKA-SLIVNICA</td>\n",
       "      <td>0066</td>\n",
       "      <td>200.0</td>\n",
       "      <td>{D;OA;[25-34];P;0;0;0,N;TV;[25-34];N;0;0;0,N;P...</td>\n",
       "      <td>3</td>\n",
       "      <td>False</td>\n",
       "      <td>POINT (552579 152968)</td>\n",
       "    </tr>\n",
       "    <tr>\n",
       "      <th>1</th>\n",
       "      <td>MARIBOR</td>\n",
       "      <td>2010-11-05</td>\n",
       "      <td>11</td>\n",
       "      <td>5</td>\n",
       "      <td>noč</td>\n",
       "      <td>18-19</td>\n",
       "      <td>J</td>\n",
       "      <td>SU</td>\n",
       "      <td>AH</td>\n",
       "      <td>N</td>\n",
       "      <td>...</td>\n",
       "      <td>C</td>\n",
       "      <td>MARIBOR</td>\n",
       "      <td>33</td>\n",
       "      <td>KREKOVA ULICA</td>\n",
       "      <td>NaN</td>\n",
       "      <td>NaN</td>\n",
       "      <td>{D;MK;[55-64];N;0;0;0,N;PE;[55-64];0;0;0;0}</td>\n",
       "      <td>2</td>\n",
       "      <td>True</td>\n",
       "      <td>POINT (549716 157726)</td>\n",
       "    </tr>\n",
       "    <tr>\n",
       "      <th>2</th>\n",
       "      <td>MARIBOR</td>\n",
       "      <td>2010-09-18</td>\n",
       "      <td>9</td>\n",
       "      <td>6</td>\n",
       "      <td>noč</td>\n",
       "      <td>04-05</td>\n",
       "      <td>D</td>\n",
       "      <td>MO</td>\n",
       "      <td>AH</td>\n",
       "      <td>R</td>\n",
       "      <td>...</td>\n",
       "      <td>C</td>\n",
       "      <td>MARIBOR</td>\n",
       "      <td>33</td>\n",
       "      <td>KRALJEVIČA MARKA ULICA</td>\n",
       "      <td>NaN</td>\n",
       "      <td>NaN</td>\n",
       "      <td>{D;PE;[25-34];0;0;0;0,N;AV;[45-54];N;N;0;N}</td>\n",
       "      <td>2</td>\n",
       "      <td>True</td>\n",
       "      <td>POINT (551259 157454)</td>\n",
       "    </tr>\n",
       "  </tbody>\n",
       "</table>\n",
       "<p>3 rows × 27 columns</p>\n",
       "</div>"
      ],
      "text/plain": [
       "         obcinao      datum  mesec  dan dannoc ura_int1 vreme povrsje vozisce  \\\n",
       "0  HOČE-SLIVNICA 2010-07-16      7    5    noč    02-03     O      SU      AH   \n",
       "1        MARIBOR 2010-11-05     11    5    noč    18-19     J      SU      AH   \n",
       "2        MARIBOR 2010-09-18      9    6    noč    04-05     D      MO      AH   \n",
       "\n",
       "  promet  ... kraj                    pcestao cesta                   podseko  \\\n",
       "0      N  ...    C  ŠENTILJ-MB-K.DEKANI-KOPER    A1  MARIBOR PTUJSKA-SLIVNICA   \n",
       "1      N  ...    C                    MARIBOR    33             KREKOVA ULICA   \n",
       "2      R  ...    C                    MARIBOR    33    KRALJEVIČA MARKA ULICA   \n",
       "\n",
       "  odsek   stac                                              osebe st_oseb  \\\n",
       "0  0066  200.0  {D;OA;[25-34];P;0;0;0,N;TV;[25-34];N;0;0;0,N;P...       3   \n",
       "1   NaN    NaN        {D;MK;[55-64];N;0;0;0,N;PE;[55-64];0;0;0;0}       2   \n",
       "2   NaN    NaN        {D;PE;[25-34];0;0;0;0,N;AV;[45-54];N;N;0;N}       2   \n",
       "\n",
       "    ishs               the_geom  \n",
       "0  False  POINT (552579 152968)  \n",
       "1   True  POINT (549716 157726)  \n",
       "2   True  POINT (551259 157454)  \n",
       "\n",
       "[3 rows x 27 columns]"
      ]
     },
     "execution_count": 24,
     "metadata": {},
     "output_type": "execute_result"
    }
   ],
   "source": [
    "df_n = df_nesrece.drop(['FID', 'key', 'regijao'], axis=1)  # axis = 1 pomeni, da brišemo stolpec\n",
    "df_n.head(3)"
   ]
  },
  {
   "cell_type": "markdown",
   "id": "95413707-d618-4cd6-82ca-f2a07a270f4b",
   "metadata": {},
   "source": [
    "### filtriranje in povpraševanje\n",
    "\n",
    "Ko so podatki prečiščeni in je tabela pripravljena, lahko izvajamo najrazličnejša povpraševanja po podatkih. \n",
    "\n",
    "Z navedbo imena stolpca ali seznama stolpcev lahko omejimo prikaz stolpcev tabele."
   ]
  },
  {
   "cell_type": "markdown",
   "id": "7dc55690-dde5-41a8-8ee6-8dcee6c1434f",
   "metadata": {},
   "source": [
    "#### izbira stolpcev"
   ]
  },
  {
   "cell_type": "code",
   "execution_count": 163,
   "id": "923c977a-03fa-4676-878d-e117de298d23",
   "metadata": {},
   "outputs": [
    {
     "data": {
      "text/plain": [
       "0     A1\n",
       "1     33\n",
       "2     33\n",
       "3     33\n",
       "4    435\n",
       "Name: cesta, dtype: object"
      ]
     },
     "execution_count": 163,
     "metadata": {},
     "output_type": "execute_result"
    }
   ],
   "source": [
    "df_n['cesta'].head(5)"
   ]
  },
  {
   "cell_type": "code",
   "execution_count": 165,
   "id": "d2a98dae-7f2d-45f6-8666-352a19ac8897",
   "metadata": {},
   "outputs": [
    {
     "data": {
      "text/html": [
       "<div>\n",
       "<style scoped>\n",
       "    .dataframe tbody tr th:only-of-type {\n",
       "        vertical-align: middle;\n",
       "    }\n",
       "\n",
       "    .dataframe tbody tr th {\n",
       "        vertical-align: top;\n",
       "    }\n",
       "\n",
       "    .dataframe thead th {\n",
       "        text-align: right;\n",
       "    }\n",
       "</style>\n",
       "<table border=\"1\" class=\"dataframe\">\n",
       "  <thead>\n",
       "    <tr style=\"text-align: right;\">\n",
       "      <th></th>\n",
       "      <th>cesta</th>\n",
       "      <th>odsek</th>\n",
       "    </tr>\n",
       "  </thead>\n",
       "  <tbody>\n",
       "    <tr>\n",
       "      <th>0</th>\n",
       "      <td>A1</td>\n",
       "      <td>0066</td>\n",
       "    </tr>\n",
       "    <tr>\n",
       "      <th>1</th>\n",
       "      <td>33</td>\n",
       "      <td>NaN</td>\n",
       "    </tr>\n",
       "    <tr>\n",
       "      <th>2</th>\n",
       "      <td>33</td>\n",
       "      <td>NaN</td>\n",
       "    </tr>\n",
       "    <tr>\n",
       "      <th>3</th>\n",
       "      <td>33</td>\n",
       "      <td>NaN</td>\n",
       "    </tr>\n",
       "    <tr>\n",
       "      <th>4</th>\n",
       "      <td>435</td>\n",
       "      <td>1431</td>\n",
       "    </tr>\n",
       "  </tbody>\n",
       "</table>\n",
       "</div>"
      ],
      "text/plain": [
       "  cesta odsek\n",
       "0    A1  0066\n",
       "1    33   NaN\n",
       "2    33   NaN\n",
       "3    33   NaN\n",
       "4   435  1431"
      ]
     },
     "execution_count": 165,
     "metadata": {},
     "output_type": "execute_result"
    }
   ],
   "source": [
    "df_n[['cesta', 'odsek']].head(5)"
   ]
  },
  {
   "cell_type": "markdown",
   "id": "8df80fec-990e-4103-9c25-d56fcf9d5b97",
   "metadata": {},
   "source": [
    "#### izbira vrstic\n",
    "\n",
    "Za izbiro vrstic lahko uporabimo logične pogoje v katerih bodo upoštevane vrednosti posameznih stolpcev.\n",
    "\n",
    "Stolpec lahko primerjamo z izbrano vrednostjo. Primerjava se izvede za vse vrstice in rezultat je nabor vrednosti True ali Flase, glede na to ali vrednost v vrstici ustreza zapisanemu pogoju.\n"
   ]
  },
  {
   "cell_type": "code",
   "execution_count": 52,
   "id": "8868186c-f357-4c17-bb9c-9bcaf3ead433",
   "metadata": {},
   "outputs": [
    {
     "data": {
      "text/plain": [
       "0       True\n",
       "1      False\n",
       "2      False\n",
       "3      False\n",
       "4      False\n",
       "       ...  \n",
       "315    False\n",
       "316    False\n",
       "317    False\n",
       "318    False\n",
       "319    False\n",
       "Name: cesta, Length: 5931, dtype: bool"
      ]
     },
     "execution_count": 52,
     "metadata": {},
     "output_type": "execute_result"
    }
   ],
   "source": [
    "df_n['cesta']=='A1'"
   ]
  },
  {
   "cell_type": "markdown",
   "id": "f81b35bd-0f2b-494d-9a4b-23366d097c95",
   "metadata": {},
   "source": [
    "Glede na izračunane vrednosti True ali False lahko filtriramo tabelo. Seznam True/False v oglatih oklepajih povzroči, da se prikažejo samo vrstice za katere navedemo vrednost True.\n",
    "\n",
    "V praksi to pomeni, da če želimo prikazati vrstice glede na vrednost v enem ali več stolpcih, v oglate oklepaje zapišemo logični pogoj, ki preverja vrednosti iz izbranih stolpcev. Na primer, prikažimo samo vrstice, kjer je v stolpcu 'cesta' zapisana vrednost 'A1':  "
   ]
  },
  {
   "cell_type": "code",
   "execution_count": 48,
   "id": "877f380a-7f68-463c-a4a4-c24055bcde79",
   "metadata": {},
   "outputs": [
    {
     "data": {
      "text/html": [
       "<div>\n",
       "<style scoped>\n",
       "    .dataframe tbody tr th:only-of-type {\n",
       "        vertical-align: middle;\n",
       "    }\n",
       "\n",
       "    .dataframe tbody tr th {\n",
       "        vertical-align: top;\n",
       "    }\n",
       "\n",
       "    .dataframe thead th {\n",
       "        text-align: right;\n",
       "    }\n",
       "</style>\n",
       "<table border=\"1\" class=\"dataframe\">\n",
       "  <thead>\n",
       "    <tr style=\"text-align: right;\">\n",
       "      <th></th>\n",
       "      <th>obcinao</th>\n",
       "      <th>datum</th>\n",
       "      <th>mesec</th>\n",
       "      <th>dan</th>\n",
       "      <th>dannoc</th>\n",
       "      <th>ura_int1</th>\n",
       "      <th>vreme</th>\n",
       "      <th>povrsje</th>\n",
       "      <th>vozisce</th>\n",
       "      <th>promet</th>\n",
       "      <th>...</th>\n",
       "      <th>kraj</th>\n",
       "      <th>pcestao</th>\n",
       "      <th>cesta</th>\n",
       "      <th>podseko</th>\n",
       "      <th>odsek</th>\n",
       "      <th>stac</th>\n",
       "      <th>osebe</th>\n",
       "      <th>st_oseb</th>\n",
       "      <th>ishs</th>\n",
       "      <th>the_geom</th>\n",
       "    </tr>\n",
       "  </thead>\n",
       "  <tbody>\n",
       "    <tr>\n",
       "      <th>0</th>\n",
       "      <td>HOČE-SLIVNICA</td>\n",
       "      <td>2010-07-16</td>\n",
       "      <td>7</td>\n",
       "      <td>5</td>\n",
       "      <td>noč</td>\n",
       "      <td>02-03</td>\n",
       "      <td>O</td>\n",
       "      <td>SU</td>\n",
       "      <td>AH</td>\n",
       "      <td>N</td>\n",
       "      <td>...</td>\n",
       "      <td>C</td>\n",
       "      <td>ŠENTILJ-MB-K.DEKANI-KOPER</td>\n",
       "      <td>A1</td>\n",
       "      <td>MARIBOR PTUJSKA-SLIVNICA</td>\n",
       "      <td>0066</td>\n",
       "      <td>200.0</td>\n",
       "      <td>{D;OA;[25-34];P;0;0;0,N;TV;[25-34];N;0;0;0,N;P...</td>\n",
       "      <td>3</td>\n",
       "      <td>False</td>\n",
       "      <td>POINT (552579 152968)</td>\n",
       "    </tr>\n",
       "    <tr>\n",
       "      <th>4</th>\n",
       "      <td>MARIBOR</td>\n",
       "      <td>2011-06-18</td>\n",
       "      <td>6</td>\n",
       "      <td>6</td>\n",
       "      <td>dan</td>\n",
       "      <td>05-06</td>\n",
       "      <td>J</td>\n",
       "      <td>SU</td>\n",
       "      <td>AH</td>\n",
       "      <td>N</td>\n",
       "      <td>...</td>\n",
       "      <td>C</td>\n",
       "      <td>ŠENTILJ-MB-CE-LJ-PO-SRMIN</td>\n",
       "      <td>A1</td>\n",
       "      <td>DRAGUČOVA-MB PTUJSKA C.</td>\n",
       "      <td>0671</td>\n",
       "      <td>3550.0</td>\n",
       "      <td>{D;TV;[18-24];N;P;0;0,N;TV;[35-44];N;0;0;0,N;P...</td>\n",
       "      <td>4</td>\n",
       "      <td>False</td>\n",
       "      <td>POINT (553381 156602)</td>\n",
       "    </tr>\n",
       "    <tr>\n",
       "      <th>96</th>\n",
       "      <td>PESNICA</td>\n",
       "      <td>2011-07-12</td>\n",
       "      <td>7</td>\n",
       "      <td>2</td>\n",
       "      <td>dan</td>\n",
       "      <td>10-11</td>\n",
       "      <td>J</td>\n",
       "      <td>SU</td>\n",
       "      <td>AH</td>\n",
       "      <td>N</td>\n",
       "      <td>...</td>\n",
       "      <td>C</td>\n",
       "      <td>ŠENTILJ-MB-CE-LJ-PO-SRMIN</td>\n",
       "      <td>A1</td>\n",
       "      <td>DRAGUČOVA-MB PTUJSKA C.</td>\n",
       "      <td>0671</td>\n",
       "      <td>7100.0</td>\n",
       "      <td>{D;OA;[35-44];0;P;0;0,N;TV;[55-64];N;0;0;0}</td>\n",
       "      <td>2</td>\n",
       "      <td>False</td>\n",
       "      <td>POINT (553410 153438)</td>\n",
       "    </tr>\n",
       "    <tr>\n",
       "      <th>185</th>\n",
       "      <td>MARIBOR</td>\n",
       "      <td>2011-09-23</td>\n",
       "      <td>9</td>\n",
       "      <td>5</td>\n",
       "      <td>dan</td>\n",
       "      <td>15-16</td>\n",
       "      <td>J</td>\n",
       "      <td>SU</td>\n",
       "      <td>AH</td>\n",
       "      <td>N</td>\n",
       "      <td>...</td>\n",
       "      <td>C</td>\n",
       "      <td>ŠENTILJ-MB-CE-LJ-PO-SRMIN</td>\n",
       "      <td>A1</td>\n",
       "      <td>PESNICA DRAGUČOVA</td>\n",
       "      <td>0065</td>\n",
       "      <td>1000.0</td>\n",
       "      <td>{D;TV;[45-54];N;0;0;0,N;OA;[25-34];N;0;0;0,N;P...</td>\n",
       "      <td>3</td>\n",
       "      <td>False</td>\n",
       "      <td>POINT (552392 161221)</td>\n",
       "    </tr>\n",
       "    <tr>\n",
       "      <th>360</th>\n",
       "      <td>MARIBOR</td>\n",
       "      <td>2011-04-14</td>\n",
       "      <td>4</td>\n",
       "      <td>4</td>\n",
       "      <td>dan</td>\n",
       "      <td>15-16</td>\n",
       "      <td>O</td>\n",
       "      <td>SU</td>\n",
       "      <td>AH</td>\n",
       "      <td>N</td>\n",
       "      <td>...</td>\n",
       "      <td>C</td>\n",
       "      <td>ŠENTILJ-MB-CE-LJ-PO-SRMIN</td>\n",
       "      <td>A1</td>\n",
       "      <td>DRAGUČOVA-MB PTUJSKA C.</td>\n",
       "      <td>0071</td>\n",
       "      <td>5450.0</td>\n",
       "      <td>{D;TV;[55-64];N;0;0;0,N;TV;[45-54];N;0;0;0,N;T...</td>\n",
       "      <td>3</td>\n",
       "      <td>False</td>\n",
       "      <td>POINT (554094 154758)</td>\n",
       "    </tr>\n",
       "    <tr>\n",
       "      <th>...</th>\n",
       "      <td>...</td>\n",
       "      <td>...</td>\n",
       "      <td>...</td>\n",
       "      <td>...</td>\n",
       "      <td>...</td>\n",
       "      <td>...</td>\n",
       "      <td>...</td>\n",
       "      <td>...</td>\n",
       "      <td>...</td>\n",
       "      <td>...</td>\n",
       "      <td>...</td>\n",
       "      <td>...</td>\n",
       "      <td>...</td>\n",
       "      <td>...</td>\n",
       "      <td>...</td>\n",
       "      <td>...</td>\n",
       "      <td>...</td>\n",
       "      <td>...</td>\n",
       "      <td>...</td>\n",
       "      <td>...</td>\n",
       "      <td>...</td>\n",
       "    </tr>\n",
       "    <tr>\n",
       "      <th>307</th>\n",
       "      <td>MARIBOR</td>\n",
       "      <td>2019-10-26</td>\n",
       "      <td>10</td>\n",
       "      <td>6</td>\n",
       "      <td>NaN</td>\n",
       "      <td>00-01</td>\n",
       "      <td>J</td>\n",
       "      <td>SU</td>\n",
       "      <td>AH</td>\n",
       "      <td>N</td>\n",
       "      <td>...</td>\n",
       "      <td>C</td>\n",
       "      <td>ŠENTILJ-MB-CE-LJ-PO-SRMIN</td>\n",
       "      <td>A1</td>\n",
       "      <td>DRAGUČOVA-MB PTUJSKA C.</td>\n",
       "      <td>0671</td>\n",
       "      <td>2500.0</td>\n",
       "      <td>{D;OA;[25-34];P;0;P;N,N;PT;[25-34];0;0;0;0,N;O...</td>\n",
       "      <td>3</td>\n",
       "      <td>False</td>\n",
       "      <td>POINT (553036 157594)</td>\n",
       "    </tr>\n",
       "    <tr>\n",
       "      <th>357</th>\n",
       "      <td>HOČE-SLIVNICA</td>\n",
       "      <td>2019-12-17</td>\n",
       "      <td>12</td>\n",
       "      <td>2</td>\n",
       "      <td>NaN</td>\n",
       "      <td>07-08</td>\n",
       "      <td>J</td>\n",
       "      <td>SU</td>\n",
       "      <td>AH</td>\n",
       "      <td>N</td>\n",
       "      <td>...</td>\n",
       "      <td>C</td>\n",
       "      <td>ŠENTILJ-MB-CE-LJ-PO-SRMIN</td>\n",
       "      <td>A1</td>\n",
       "      <td>PRIKLJ.MB CENTER-PTUJSKA</td>\n",
       "      <td>0162</td>\n",
       "      <td>55.0</td>\n",
       "      <td>{D;OA;[18-24];N;0;0;0,N;PT;[35-44];0;0;0;0,N;T...</td>\n",
       "      <td>3</td>\n",
       "      <td>False</td>\n",
       "      <td>POINT (552609 153013)</td>\n",
       "    </tr>\n",
       "    <tr>\n",
       "      <th>24</th>\n",
       "      <td>MARIBOR</td>\n",
       "      <td>2020-09-01</td>\n",
       "      <td>9</td>\n",
       "      <td>2</td>\n",
       "      <td>NaN</td>\n",
       "      <td>20-21</td>\n",
       "      <td>J</td>\n",
       "      <td>SU</td>\n",
       "      <td>AH</td>\n",
       "      <td>N</td>\n",
       "      <td>...</td>\n",
       "      <td>C</td>\n",
       "      <td>ŠENTILJ-MB-CE-LJ-PO-SRMIN</td>\n",
       "      <td>A1</td>\n",
       "      <td>PRIKLJ.MB VZHOD-ZRKOVSKA</td>\n",
       "      <td>0163</td>\n",
       "      <td>1062.0</td>\n",
       "      <td>{D;PE;[55-64];0;0;N;N,N;OA;[35-44];N;0;0;0}</td>\n",
       "      <td>2</td>\n",
       "      <td>False</td>\n",
       "      <td>POINT (553940 155751)</td>\n",
       "    </tr>\n",
       "    <tr>\n",
       "      <th>47</th>\n",
       "      <td>MARIBOR</td>\n",
       "      <td>2020-10-27</td>\n",
       "      <td>10</td>\n",
       "      <td>2</td>\n",
       "      <td>NaN</td>\n",
       "      <td>07-08</td>\n",
       "      <td>O</td>\n",
       "      <td>SU</td>\n",
       "      <td>AZ</td>\n",
       "      <td>G</td>\n",
       "      <td>...</td>\n",
       "      <td>C</td>\n",
       "      <td>ŠENTILJ-MB-CE-LJ-PO-SRMIN</td>\n",
       "      <td>A1</td>\n",
       "      <td>DRAGUČOVA-MB PTUJSKA C.</td>\n",
       "      <td>0671</td>\n",
       "      <td>2739.0</td>\n",
       "      <td>{D;OA;[25-34];N;0;0;0,N;TV;[35-44];N;0;0;0,N;T...</td>\n",
       "      <td>3</td>\n",
       "      <td>False</td>\n",
       "      <td>POINT (553114 157368)</td>\n",
       "    </tr>\n",
       "    <tr>\n",
       "      <th>135</th>\n",
       "      <td>MARIBOR</td>\n",
       "      <td>2020-08-07</td>\n",
       "      <td>8</td>\n",
       "      <td>5</td>\n",
       "      <td>NaN</td>\n",
       "      <td>18-19</td>\n",
       "      <td>J</td>\n",
       "      <td>SU</td>\n",
       "      <td>AH</td>\n",
       "      <td>N</td>\n",
       "      <td>...</td>\n",
       "      <td>C</td>\n",
       "      <td>ŠENTILJ-MB-CE-LJ-PO-SRMIN</td>\n",
       "      <td>A1</td>\n",
       "      <td>PRIKLJ.MB VZHOD-ZRKOVSKA</td>\n",
       "      <td>0163</td>\n",
       "      <td>1062.0</td>\n",
       "      <td>{D;OA;[35-44];N;0;0;0,N;OA;[55-64];N;0;0;0}</td>\n",
       "      <td>2</td>\n",
       "      <td>False</td>\n",
       "      <td>POINT (553940 155751)</td>\n",
       "    </tr>\n",
       "  </tbody>\n",
       "</table>\n",
       "<p>62 rows × 27 columns</p>\n",
       "</div>"
      ],
      "text/plain": [
       "           obcinao      datum  mesec  dan dannoc ura_int1 vreme povrsje  \\\n",
       "0    HOČE-SLIVNICA 2010-07-16      7    5    noč    02-03     O      SU   \n",
       "4          MARIBOR 2011-06-18      6    6    dan    05-06     J      SU   \n",
       "96         PESNICA 2011-07-12      7    2    dan    10-11     J      SU   \n",
       "185        MARIBOR 2011-09-23      9    5    dan    15-16     J      SU   \n",
       "360        MARIBOR 2011-04-14      4    4    dan    15-16     O      SU   \n",
       "..             ...        ...    ...  ...    ...      ...   ...     ...   \n",
       "307        MARIBOR 2019-10-26     10    6    NaN    00-01     J      SU   \n",
       "357  HOČE-SLIVNICA 2019-12-17     12    2    NaN    07-08     J      SU   \n",
       "24         MARIBOR 2020-09-01      9    2    NaN    20-21     J      SU   \n",
       "47         MARIBOR 2020-10-27     10    2    NaN    07-08     O      SU   \n",
       "135        MARIBOR 2020-08-07      8    5    NaN    18-19     J      SU   \n",
       "\n",
       "    vozisce promet  ... kraj                    pcestao cesta  \\\n",
       "0        AH      N  ...    C  ŠENTILJ-MB-K.DEKANI-KOPER    A1   \n",
       "4        AH      N  ...    C  ŠENTILJ-MB-CE-LJ-PO-SRMIN    A1   \n",
       "96       AH      N  ...    C  ŠENTILJ-MB-CE-LJ-PO-SRMIN    A1   \n",
       "185      AH      N  ...    C  ŠENTILJ-MB-CE-LJ-PO-SRMIN    A1   \n",
       "360      AH      N  ...    C  ŠENTILJ-MB-CE-LJ-PO-SRMIN    A1   \n",
       "..      ...    ...  ...  ...                        ...   ...   \n",
       "307      AH      N  ...    C  ŠENTILJ-MB-CE-LJ-PO-SRMIN    A1   \n",
       "357      AH      N  ...    C  ŠENTILJ-MB-CE-LJ-PO-SRMIN    A1   \n",
       "24       AH      N  ...    C  ŠENTILJ-MB-CE-LJ-PO-SRMIN    A1   \n",
       "47       AZ      G  ...    C  ŠENTILJ-MB-CE-LJ-PO-SRMIN    A1   \n",
       "135      AH      N  ...    C  ŠENTILJ-MB-CE-LJ-PO-SRMIN    A1   \n",
       "\n",
       "                      podseko odsek    stac  \\\n",
       "0    MARIBOR PTUJSKA-SLIVNICA  0066   200.0   \n",
       "4     DRAGUČOVA-MB PTUJSKA C.  0671  3550.0   \n",
       "96    DRAGUČOVA-MB PTUJSKA C.  0671  7100.0   \n",
       "185         PESNICA DRAGUČOVA  0065  1000.0   \n",
       "360   DRAGUČOVA-MB PTUJSKA C.  0071  5450.0   \n",
       "..                        ...   ...     ...   \n",
       "307   DRAGUČOVA-MB PTUJSKA C.  0671  2500.0   \n",
       "357  PRIKLJ.MB CENTER-PTUJSKA  0162    55.0   \n",
       "24   PRIKLJ.MB VZHOD-ZRKOVSKA  0163  1062.0   \n",
       "47    DRAGUČOVA-MB PTUJSKA C.  0671  2739.0   \n",
       "135  PRIKLJ.MB VZHOD-ZRKOVSKA  0163  1062.0   \n",
       "\n",
       "                                                 osebe st_oseb   ishs  \\\n",
       "0    {D;OA;[25-34];P;0;0;0,N;TV;[25-34];N;0;0;0,N;P...       3  False   \n",
       "4    {D;TV;[18-24];N;P;0;0,N;TV;[35-44];N;0;0;0,N;P...       4  False   \n",
       "96         {D;OA;[35-44];0;P;0;0,N;TV;[55-64];N;0;0;0}       2  False   \n",
       "185  {D;TV;[45-54];N;0;0;0,N;OA;[25-34];N;0;0;0,N;P...       3  False   \n",
       "360  {D;TV;[55-64];N;0;0;0,N;TV;[45-54];N;0;0;0,N;T...       3  False   \n",
       "..                                                 ...     ...    ...   \n",
       "307  {D;OA;[25-34];P;0;P;N,N;PT;[25-34];0;0;0;0,N;O...       3  False   \n",
       "357  {D;OA;[18-24];N;0;0;0,N;PT;[35-44];0;0;0;0,N;T...       3  False   \n",
       "24         {D;PE;[55-64];0;0;N;N,N;OA;[35-44];N;0;0;0}       2  False   \n",
       "47   {D;OA;[25-34];N;0;0;0,N;TV;[35-44];N;0;0;0,N;T...       3  False   \n",
       "135        {D;OA;[35-44];N;0;0;0,N;OA;[55-64];N;0;0;0}       2  False   \n",
       "\n",
       "                  the_geom  \n",
       "0    POINT (552579 152968)  \n",
       "4    POINT (553381 156602)  \n",
       "96   POINT (553410 153438)  \n",
       "185  POINT (552392 161221)  \n",
       "360  POINT (554094 154758)  \n",
       "..                     ...  \n",
       "307  POINT (553036 157594)  \n",
       "357  POINT (552609 153013)  \n",
       "24   POINT (553940 155751)  \n",
       "47   POINT (553114 157368)  \n",
       "135  POINT (553940 155751)  \n",
       "\n",
       "[62 rows x 27 columns]"
      ]
     },
     "execution_count": 48,
     "metadata": {},
     "output_type": "execute_result"
    }
   ],
   "source": [
    "df_n[df_n['cesta']=='A1']"
   ]
  },
  {
   "cell_type": "markdown",
   "id": "81ceffdd-43e2-4497-a68d-8678524b8673",
   "metadata": {},
   "source": [
    "Pogoj lahko vključuje preverjanje več stolpcev. Pogoje med seboj povežemo z operatorjema IN (znak &) ter ALI (vertikalna črtica |)) Pozorni moramo biti na uporabo oklepajev, ker imata operaciji & (logični in) ter | (logični ali) prednost pred == (primerjanje):"
   ]
  },
  {
   "cell_type": "code",
   "execution_count": 158,
   "id": "56a7f06c-4db4-4ad6-b536-ea3efe353708",
   "metadata": {},
   "outputs": [
    {
     "data": {
      "text/html": [
       "<div>\n",
       "<style scoped>\n",
       "    .dataframe tbody tr th:only-of-type {\n",
       "        vertical-align: middle;\n",
       "    }\n",
       "\n",
       "    .dataframe tbody tr th {\n",
       "        vertical-align: top;\n",
       "    }\n",
       "\n",
       "    .dataframe thead th {\n",
       "        text-align: right;\n",
       "    }\n",
       "</style>\n",
       "<table border=\"1\" class=\"dataframe\">\n",
       "  <thead>\n",
       "    <tr style=\"text-align: right;\">\n",
       "      <th></th>\n",
       "      <th>obcinao</th>\n",
       "      <th>datum</th>\n",
       "      <th>mesec</th>\n",
       "      <th>dan</th>\n",
       "      <th>dannoc</th>\n",
       "      <th>ura_int1</th>\n",
       "      <th>vreme</th>\n",
       "      <th>povrsje</th>\n",
       "      <th>vozisce</th>\n",
       "      <th>promet</th>\n",
       "      <th>...</th>\n",
       "      <th>kraj</th>\n",
       "      <th>pcestao</th>\n",
       "      <th>cesta</th>\n",
       "      <th>podseko</th>\n",
       "      <th>odsek</th>\n",
       "      <th>stac</th>\n",
       "      <th>osebe</th>\n",
       "      <th>st_oseb</th>\n",
       "      <th>ishs</th>\n",
       "      <th>the_geom</th>\n",
       "    </tr>\n",
       "  </thead>\n",
       "  <tbody>\n",
       "    <tr>\n",
       "      <th>0</th>\n",
       "      <td>HOČE-SLIVNICA</td>\n",
       "      <td>2010-07-16</td>\n",
       "      <td>7</td>\n",
       "      <td>5</td>\n",
       "      <td>noč</td>\n",
       "      <td>02-03</td>\n",
       "      <td>O</td>\n",
       "      <td>SU</td>\n",
       "      <td>AH</td>\n",
       "      <td>N</td>\n",
       "      <td>...</td>\n",
       "      <td>C</td>\n",
       "      <td>ŠENTILJ-MB-K.DEKANI-KOPER</td>\n",
       "      <td>A1</td>\n",
       "      <td>MARIBOR PTUJSKA-SLIVNICA</td>\n",
       "      <td>0066</td>\n",
       "      <td>200.0</td>\n",
       "      <td>{D;OA;[25-34];P;0;0;0,N;TV;[25-34];N;0;0;0,N;P...</td>\n",
       "      <td>3</td>\n",
       "      <td>False</td>\n",
       "      <td>POINT (552579 152968)</td>\n",
       "    </tr>\n",
       "    <tr>\n",
       "      <th>17</th>\n",
       "      <td>Hoče - Slivnica</td>\n",
       "      <td>2016-09-01</td>\n",
       "      <td>9</td>\n",
       "      <td>4</td>\n",
       "      <td>dan</td>\n",
       "      <td>12-13</td>\n",
       "      <td>J</td>\n",
       "      <td>SU</td>\n",
       "      <td>AH</td>\n",
       "      <td>N</td>\n",
       "      <td>...</td>\n",
       "      <td>C</td>\n",
       "      <td>ŠENTILJ-MB-CE-LJ-PO-SRMIN</td>\n",
       "      <td>A1</td>\n",
       "      <td>MARIBOR PTUJSKA-SLIVNICA</td>\n",
       "      <td>0066</td>\n",
       "      <td>100.0</td>\n",
       "      <td>{D;TV;[35-44];N;0;0;0}</td>\n",
       "      <td>1</td>\n",
       "      <td>False</td>\n",
       "      <td>POINT (552641 153001)</td>\n",
       "    </tr>\n",
       "    <tr>\n",
       "      <th>196</th>\n",
       "      <td>HOČE-SLIVNICA</td>\n",
       "      <td>2017-10-16</td>\n",
       "      <td>10</td>\n",
       "      <td>1</td>\n",
       "      <td>NaN</td>\n",
       "      <td>05-06</td>\n",
       "      <td>M</td>\n",
       "      <td>SU</td>\n",
       "      <td>AZ</td>\n",
       "      <td>N</td>\n",
       "      <td>...</td>\n",
       "      <td>C</td>\n",
       "      <td>ŠENTILJ-MB-CE-LJ-PO-SRMIN</td>\n",
       "      <td>A1</td>\n",
       "      <td>MARIBOR PTUJSKA-SLIVNICA</td>\n",
       "      <td>0066</td>\n",
       "      <td>500.0</td>\n",
       "      <td>{D;OA;[55-64];N;0;0;0,N;OA;[45-54];N;0;0;0}</td>\n",
       "      <td>2</td>\n",
       "      <td>False</td>\n",
       "      <td>POINT (552299 152795)</td>\n",
       "    </tr>\n",
       "  </tbody>\n",
       "</table>\n",
       "<p>3 rows × 27 columns</p>\n",
       "</div>"
      ],
      "text/plain": [
       "             obcinao      datum  mesec  dan dannoc ura_int1 vreme povrsje  \\\n",
       "0      HOČE-SLIVNICA 2010-07-16      7    5    noč    02-03     O      SU   \n",
       "17   Hoče - Slivnica 2016-09-01      9    4    dan    12-13     J      SU   \n",
       "196    HOČE-SLIVNICA 2017-10-16     10    1    NaN    05-06     M      SU   \n",
       "\n",
       "    vozisce promet  ... kraj                    pcestao cesta  \\\n",
       "0        AH      N  ...    C  ŠENTILJ-MB-K.DEKANI-KOPER    A1   \n",
       "17       AH      N  ...    C  ŠENTILJ-MB-CE-LJ-PO-SRMIN    A1   \n",
       "196      AZ      N  ...    C  ŠENTILJ-MB-CE-LJ-PO-SRMIN    A1   \n",
       "\n",
       "                      podseko odsek   stac  \\\n",
       "0    MARIBOR PTUJSKA-SLIVNICA  0066  200.0   \n",
       "17   MARIBOR PTUJSKA-SLIVNICA  0066  100.0   \n",
       "196  MARIBOR PTUJSKA-SLIVNICA  0066  500.0   \n",
       "\n",
       "                                                 osebe st_oseb   ishs  \\\n",
       "0    {D;OA;[25-34];P;0;0;0,N;TV;[25-34];N;0;0;0,N;P...       3  False   \n",
       "17                              {D;TV;[35-44];N;0;0;0}       1  False   \n",
       "196        {D;OA;[55-64];N;0;0;0,N;OA;[45-54];N;0;0;0}       2  False   \n",
       "\n",
       "                  the_geom  \n",
       "0    POINT (552579 152968)  \n",
       "17   POINT (552641 153001)  \n",
       "196  POINT (552299 152795)  \n",
       "\n",
       "[3 rows x 27 columns]"
      ]
     },
     "execution_count": 158,
     "metadata": {},
     "output_type": "execute_result"
    }
   ],
   "source": [
    "df_n[(df_n['cesta']=='A1') & (df_n['odsek'] == '0066')]"
   ]
  },
  {
   "cell_type": "markdown",
   "id": "0afe0d9e-841f-4a8f-bbd9-29224ded537c",
   "metadata": {},
   "source": [
    "#### filtriranje vrstic in stolpcev hkrati - loc\n",
    "Hkrati s filtriranjem vrstic lahko omejimo tudi nabor stolpcev, ki naj jih rezultat vključuje. \n",
    "Oba pogoja/filtra ponovno navedemo v oglatih oklepajih, tako da najprej napišemo filter vrstic glede na vrednosti stolpcev, nato pa podamo seznam stolpcev, ki jih želimo prikazati.\n",
    "\n",
    "Če kombiniramo oba filtra, moramo pred oglate oklepaje zapisati `.loc`. S tem tabeli povemo, da bomo podatke iskali po vrednostih in nazivih stolpcev.  "
   ]
  },
  {
   "cell_type": "code",
   "execution_count": 58,
   "id": "82d8b3d7-22b7-4eef-bfb9-32f66d477fcb",
   "metadata": {},
   "outputs": [
    {
     "data": {
      "text/html": [
       "<div>\n",
       "<style scoped>\n",
       "    .dataframe tbody tr th:only-of-type {\n",
       "        vertical-align: middle;\n",
       "    }\n",
       "\n",
       "    .dataframe tbody tr th {\n",
       "        vertical-align: top;\n",
       "    }\n",
       "\n",
       "    .dataframe thead th {\n",
       "        text-align: right;\n",
       "    }\n",
       "</style>\n",
       "<table border=\"1\" class=\"dataframe\">\n",
       "  <thead>\n",
       "    <tr style=\"text-align: right;\">\n",
       "      <th></th>\n",
       "      <th>mesec</th>\n",
       "      <th>dan</th>\n",
       "    </tr>\n",
       "  </thead>\n",
       "  <tbody>\n",
       "    <tr>\n",
       "      <th>0</th>\n",
       "      <td>7</td>\n",
       "      <td>5</td>\n",
       "    </tr>\n",
       "    <tr>\n",
       "      <th>4</th>\n",
       "      <td>6</td>\n",
       "      <td>6</td>\n",
       "    </tr>\n",
       "    <tr>\n",
       "      <th>96</th>\n",
       "      <td>7</td>\n",
       "      <td>2</td>\n",
       "    </tr>\n",
       "    <tr>\n",
       "      <th>185</th>\n",
       "      <td>9</td>\n",
       "      <td>5</td>\n",
       "    </tr>\n",
       "    <tr>\n",
       "      <th>360</th>\n",
       "      <td>4</td>\n",
       "      <td>4</td>\n",
       "    </tr>\n",
       "    <tr>\n",
       "      <th>...</th>\n",
       "      <td>...</td>\n",
       "      <td>...</td>\n",
       "    </tr>\n",
       "    <tr>\n",
       "      <th>307</th>\n",
       "      <td>10</td>\n",
       "      <td>6</td>\n",
       "    </tr>\n",
       "    <tr>\n",
       "      <th>357</th>\n",
       "      <td>12</td>\n",
       "      <td>2</td>\n",
       "    </tr>\n",
       "    <tr>\n",
       "      <th>24</th>\n",
       "      <td>9</td>\n",
       "      <td>2</td>\n",
       "    </tr>\n",
       "    <tr>\n",
       "      <th>47</th>\n",
       "      <td>10</td>\n",
       "      <td>2</td>\n",
       "    </tr>\n",
       "    <tr>\n",
       "      <th>135</th>\n",
       "      <td>8</td>\n",
       "      <td>5</td>\n",
       "    </tr>\n",
       "  </tbody>\n",
       "</table>\n",
       "<p>62 rows × 2 columns</p>\n",
       "</div>"
      ],
      "text/plain": [
       "     mesec  dan\n",
       "0        7    5\n",
       "4        6    6\n",
       "96       7    2\n",
       "185      9    5\n",
       "360      4    4\n",
       "..     ...  ...\n",
       "307     10    6\n",
       "357     12    2\n",
       "24       9    2\n",
       "47      10    2\n",
       "135      8    5\n",
       "\n",
       "[62 rows x 2 columns]"
      ]
     },
     "execution_count": 58,
     "metadata": {},
     "output_type": "execute_result"
    }
   ],
   "source": [
    "df_n.loc[df_n['cesta']=='A1', ['mesec', 'dan']]"
   ]
  },
  {
   "cell_type": "markdown",
   "id": "a9576c82-ac48-46c4-959a-99100a53a050",
   "metadata": {},
   "source": [
    "#### funkcija query()\n",
    "\n",
    "Za iskanje ter filtriranje podatkov lahko uporabimo tudi zapis pogojev, kot jih navadno uporabljamo v SQL podatkovnih bazah. V ta namen uporabimo funkcijo `query()`.\n",
    "\n",
    ">Pozor:\n",
    ">- za zapis celotnega pogoja moramo uporabiti drugo vrsto narekovajev, \\\n",
    "kot jih uporabljamo za navedbo vrednosti stolpcev\n",
    ">- za povezovanje pogojev v funkciji query uporabljamo 'and' in 'or' in ne znakov & ter |"
   ]
  },
  {
   "cell_type": "code",
   "execution_count": 46,
   "id": "3970dc90-2487-4e18-af70-03cf2d735917",
   "metadata": {},
   "outputs": [
    {
     "data": {
      "text/html": [
       "<div>\n",
       "<style scoped>\n",
       "    .dataframe tbody tr th:only-of-type {\n",
       "        vertical-align: middle;\n",
       "    }\n",
       "\n",
       "    .dataframe tbody tr th {\n",
       "        vertical-align: top;\n",
       "    }\n",
       "\n",
       "    .dataframe thead th {\n",
       "        text-align: right;\n",
       "    }\n",
       "</style>\n",
       "<table border=\"1\" class=\"dataframe\">\n",
       "  <thead>\n",
       "    <tr style=\"text-align: right;\">\n",
       "      <th></th>\n",
       "      <th>obcinao</th>\n",
       "      <th>datum</th>\n",
       "      <th>mesec</th>\n",
       "      <th>dan</th>\n",
       "      <th>dannoc</th>\n",
       "      <th>ura_int1</th>\n",
       "      <th>vreme</th>\n",
       "      <th>povrsje</th>\n",
       "      <th>vozisce</th>\n",
       "      <th>promet</th>\n",
       "      <th>...</th>\n",
       "      <th>kraj</th>\n",
       "      <th>pcestao</th>\n",
       "      <th>cesta</th>\n",
       "      <th>podseko</th>\n",
       "      <th>odsek</th>\n",
       "      <th>stac</th>\n",
       "      <th>osebe</th>\n",
       "      <th>st_oseb</th>\n",
       "      <th>ishs</th>\n",
       "      <th>the_geom</th>\n",
       "    </tr>\n",
       "  </thead>\n",
       "  <tbody>\n",
       "    <tr>\n",
       "      <th>0</th>\n",
       "      <td>HOČE-SLIVNICA</td>\n",
       "      <td>2010-07-16</td>\n",
       "      <td>7</td>\n",
       "      <td>5</td>\n",
       "      <td>noč</td>\n",
       "      <td>02-03</td>\n",
       "      <td>O</td>\n",
       "      <td>SU</td>\n",
       "      <td>AH</td>\n",
       "      <td>N</td>\n",
       "      <td>...</td>\n",
       "      <td>C</td>\n",
       "      <td>ŠENTILJ-MB-K.DEKANI-KOPER</td>\n",
       "      <td>A1</td>\n",
       "      <td>MARIBOR PTUJSKA-SLIVNICA</td>\n",
       "      <td>0066</td>\n",
       "      <td>200.0</td>\n",
       "      <td>{D;OA;[25-34];P;0;0;0,N;TV;[25-34];N;0;0;0,N;P...</td>\n",
       "      <td>3</td>\n",
       "      <td>False</td>\n",
       "      <td>POINT (552579 152968)</td>\n",
       "    </tr>\n",
       "    <tr>\n",
       "      <th>17</th>\n",
       "      <td>Hoče - Slivnica</td>\n",
       "      <td>2016-09-01</td>\n",
       "      <td>9</td>\n",
       "      <td>4</td>\n",
       "      <td>dan</td>\n",
       "      <td>12-13</td>\n",
       "      <td>J</td>\n",
       "      <td>SU</td>\n",
       "      <td>AH</td>\n",
       "      <td>N</td>\n",
       "      <td>...</td>\n",
       "      <td>C</td>\n",
       "      <td>ŠENTILJ-MB-CE-LJ-PO-SRMIN</td>\n",
       "      <td>A1</td>\n",
       "      <td>MARIBOR PTUJSKA-SLIVNICA</td>\n",
       "      <td>0066</td>\n",
       "      <td>100.0</td>\n",
       "      <td>{D;TV;[35-44];N;0;0;0}</td>\n",
       "      <td>1</td>\n",
       "      <td>False</td>\n",
       "      <td>POINT (552641 153001)</td>\n",
       "    </tr>\n",
       "    <tr>\n",
       "      <th>196</th>\n",
       "      <td>HOČE-SLIVNICA</td>\n",
       "      <td>2017-10-16</td>\n",
       "      <td>10</td>\n",
       "      <td>1</td>\n",
       "      <td>NaN</td>\n",
       "      <td>05-06</td>\n",
       "      <td>M</td>\n",
       "      <td>SU</td>\n",
       "      <td>AZ</td>\n",
       "      <td>N</td>\n",
       "      <td>...</td>\n",
       "      <td>C</td>\n",
       "      <td>ŠENTILJ-MB-CE-LJ-PO-SRMIN</td>\n",
       "      <td>A1</td>\n",
       "      <td>MARIBOR PTUJSKA-SLIVNICA</td>\n",
       "      <td>0066</td>\n",
       "      <td>500.0</td>\n",
       "      <td>{D;OA;[55-64];N;0;0;0,N;OA;[45-54];N;0;0;0}</td>\n",
       "      <td>2</td>\n",
       "      <td>False</td>\n",
       "      <td>POINT (552299 152795)</td>\n",
       "    </tr>\n",
       "  </tbody>\n",
       "</table>\n",
       "<p>3 rows × 27 columns</p>\n",
       "</div>"
      ],
      "text/plain": [
       "             obcinao      datum  mesec  dan dannoc ura_int1 vreme povrsje  \\\n",
       "0      HOČE-SLIVNICA 2010-07-16      7    5    noč    02-03     O      SU   \n",
       "17   Hoče - Slivnica 2016-09-01      9    4    dan    12-13     J      SU   \n",
       "196    HOČE-SLIVNICA 2017-10-16     10    1    NaN    05-06     M      SU   \n",
       "\n",
       "    vozisce promet  ... kraj                    pcestao cesta  \\\n",
       "0        AH      N  ...    C  ŠENTILJ-MB-K.DEKANI-KOPER    A1   \n",
       "17       AH      N  ...    C  ŠENTILJ-MB-CE-LJ-PO-SRMIN    A1   \n",
       "196      AZ      N  ...    C  ŠENTILJ-MB-CE-LJ-PO-SRMIN    A1   \n",
       "\n",
       "                      podseko odsek   stac  \\\n",
       "0    MARIBOR PTUJSKA-SLIVNICA  0066  200.0   \n",
       "17   MARIBOR PTUJSKA-SLIVNICA  0066  100.0   \n",
       "196  MARIBOR PTUJSKA-SLIVNICA  0066  500.0   \n",
       "\n",
       "                                                 osebe st_oseb   ishs  \\\n",
       "0    {D;OA;[25-34];P;0;0;0,N;TV;[25-34];N;0;0;0,N;P...       3  False   \n",
       "17                              {D;TV;[35-44];N;0;0;0}       1  False   \n",
       "196        {D;OA;[55-64];N;0;0;0,N;OA;[45-54];N;0;0;0}       2  False   \n",
       "\n",
       "                  the_geom  \n",
       "0    POINT (552579 152968)  \n",
       "17   POINT (552641 153001)  \n",
       "196  POINT (552299 152795)  \n",
       "\n",
       "[3 rows x 27 columns]"
      ]
     },
     "execution_count": 46,
     "metadata": {},
     "output_type": "execute_result"
    }
   ],
   "source": [
    "df_n.query(\"cesta=='A1' and odsek=='0066'\" )"
   ]
  },
  {
   "cell_type": "markdown",
   "id": "5a2c111b-1d6f-4d0a-b827-38500c9e7ef0",
   "metadata": {},
   "source": [
    "### Analiza podatkov\n",
    "\n",
    "Prečiščeni in filtrirani podatki praviloma služijo kot vhod v nadaljnje statistične analize, ki jih izvajamo s knjižnicami namenjenimi analizam, ali pa jih vizualiziramo v grafih. V nadaljevanju bomo demonstrirali preprosto analizo podatkov z uporabo knjižnice `scipy.stat`.\n",
    "\n",
    "Podatki o nesrečah so v veliki meri izraženi s spremenljivkami, ki glede na tip merjenja sodijo med nominalne spremenljivke. Skladno s tem smo pri analizi podatkov dokaj omejeni. V nadaljevanju si bomo ogledali frekvence posameznih vrednosti ter preverili neodvisnost porazdelitev parov spremenljivk. \n",
    "\n",
    "Izdelali bomo:\n",
    "- prikaz frekvenc vrednosti izbrane spremenljivke\n",
    "- kontingenčno tabelo para spremenljivk\n",
    "- hi-kvadrat test neodvisnosti spremenljivk\n",
    "- grafični prikaz frekvenc v stolpičnem diagramu\n",
    "- grafični prikaz kontingenc parov sremenljivk\n",
    "\n",
    "Pri tem bomo uporabili:\n",
    "- `value_counts`: funkcija vrne frekvence vrednosti izbrane spremenljivke\n",
    "- `crosstab`: funkcija vrne frekvence kombinacij vrednosti dveh spremenljivk\n",
    "- `chi2_contingency`: funkcija izvede test hi-kvadrat na osnovi kontingenčne tabele\n",
    "- `matplotlib.pyplot`: pripravili bomo obliko grafov\n",
    "- `pandas.DataFrame.plot`: uporabili bomo funkcionalnosti knjižnice pandas za prikaz grafov\n",
    "  \n",
    "Več o kontingenčnem $\\chi^2$ statističnem testu lahko najdemo na spletu: https://pythonfordatascienceorg.wordpress.com/chi-square-python/ \n"
   ]
  },
  {
   "cell_type": "markdown",
   "id": "dc5e411d-1edc-4a6b-8e5b-4106e33230d6",
   "metadata": {},
   "source": [
    "#### Frekvence\n",
    "Prikažemo pogostost pojavnosti nesreče glede na stanje vozišča (blatno, mokro, suho...). Stanje vozišča je zapisano v spremenljivki __povrsje__. Zato bomo pogledali, kolikokrat se posamično stanje vozišča pojavi v tabeli nesreč.\n",
    "\n",
    "Funkcija `value_counts` vrne objekt `Series`, to je enodimenzonalno polje podatkov. V polju so naštete frekvence vrednosti spremenljivke:"
   ]
  },
  {
   "cell_type": "code",
   "execution_count": 71,
   "id": "99805474-68dd-4b5f-b5af-e4e912d617b5",
   "metadata": {},
   "outputs": [
    {
     "data": {
      "text/plain": [
       "povrsje\n",
       "SU    4535\n",
       "MO    1155\n",
       "OS      65\n",
       "SP      62\n",
       "SN      47\n",
       "SL      32\n",
       "PN      21\n",
       "PP      13\n",
       "BL       1\n",
       "Name: count, dtype: int64"
      ]
     },
     "execution_count": 71,
     "metadata": {},
     "output_type": "execute_result"
    }
   ],
   "source": [
    "df_n['povrsje'].value_counts()"
   ]
  },
  {
   "cell_type": "markdown",
   "id": "e3199be0-10e5-420d-9ec9-b6695a6a45f9",
   "metadata": {},
   "source": [
    "Objekt `Series` implementira številne funkcije za delo s podatki v polju. `Series` je podobna podatkovna struktura kot `DataFrame`, s tem da vsebuje samo en niz (en stolpec) podatkov. Med drugim omogoča tudi hiter izris grafov:"
   ]
  },
  {
   "cell_type": "code",
   "execution_count": 75,
   "id": "140d7c73-96b4-476a-8578-e73ade4cf011",
   "metadata": {},
   "outputs": [
    {
     "data": {
      "image/png": "[encoded data removed]",
      "text/plain": [
       "<Figure size 640x480 with 1 Axes>"
      ]
     },
     "metadata": {},
     "output_type": "display_data"
    }
   ],
   "source": [
    "povrsje_frek = df_n['povrsje'].value_counts()\n",
    "\n",
    "povrsje_frek.plot.pie(radius=0.6, explode=[0,.2,.3,.4,.5,.6,.7,1,1.3]);"
   ]
  },
  {
   "cell_type": "markdown",
   "id": "7d8d9e39-7baa-49b3-808d-af8d59ed17c6",
   "metadata": {},
   "source": [
    "#### Test neodvisnosti dveh spremenljivk  $\\chi^2$\n",
    "\n",
    "Zbrani podatki o nesrečah razvrščajo nesreče v različne kategorije po številnih dimenzijah, ki se nanašajo na okoliščine in na posledice nesreče. Kot smo videli pri pregledu spremenljivk, gre za nominalne spremenljivke. Če želimo preveriti ali obstaja statistično pomembna povezanost med nominalnimi spremenljivkami, za to lahko uporabimo kontingenčne tabele in test hi-kvadrat ($\\chi^2$), če so za to izpolnjeni tudi dodatni pogoji. Dodaten pogoj je, da vse vrednosti pričakovanih frekvenc morajo biti večje kot 5. V primeru večjih kontingenčnih tabel pa se zadovoljimo s pogojem, da je vsaj 80% vrednosti večjih od 5, vse pa morajo biti večje od 1. Če pogoj ni izpolnjen, si lahko pomagamo tako, da nekatere kategorije smiselno med sabo združimo in test ponovimo (ali pa uporabimo ustrezen neparametrični test).\n",
    "\n",
    "V nadaljevanju bomo:\n",
    "- pripravili kontingenčno tabelo za dve spremenljivki\n",
    "- izvedli test $\\chi^2$\n",
    "- preverili dodatne pogoje\n",
    "- združili nekatere vrstice in stolpce kontingenčne tabele ter test ponovili"
   ]
  },
  {
   "cell_type": "markdown",
   "id": "8d3465c6-83c0-477a-9733-88430acf635b",
   "metadata": {},
   "source": [
    "Najprej pripravimo kontingenčno tabelo, ki vsebuje frekvence hkratne pojavnosti posledic prometne nesreče (stolpec __klas__) ter pojavnosti gostote prometa (stolpec __promet__):"
   ]
  },
  {
   "cell_type": "code",
   "execution_count": 77,
   "id": "d8e9f3b1-6166-442e-9596-c2557d4d2525",
   "metadata": {},
   "outputs": [
    {
     "data": {
      "text/html": [
       "<div>\n",
       "<style scoped>\n",
       "    .dataframe tbody tr th:only-of-type {\n",
       "        vertical-align: middle;\n",
       "    }\n",
       "\n",
       "    .dataframe tbody tr th {\n",
       "        vertical-align: top;\n",
       "    }\n",
       "\n",
       "    .dataframe thead th {\n",
       "        text-align: right;\n",
       "    }\n",
       "</style>\n",
       "<table border=\"1\" class=\"dataframe\">\n",
       "  <thead>\n",
       "    <tr style=\"text-align: right;\">\n",
       "      <th>promet</th>\n",
       "      <th>E</th>\n",
       "      <th>G</th>\n",
       "      <th>N</th>\n",
       "      <th>R</th>\n",
       "      <th>Z</th>\n",
       "    </tr>\n",
       "    <tr>\n",
       "      <th>klas</th>\n",
       "      <th></th>\n",
       "      <th></th>\n",
       "      <th></th>\n",
       "      <th></th>\n",
       "      <th></th>\n",
       "    </tr>\n",
       "  </thead>\n",
       "  <tbody>\n",
       "    <tr>\n",
       "      <th>H</th>\n",
       "      <td>10</td>\n",
       "      <td>25</td>\n",
       "      <td>204</td>\n",
       "      <td>71</td>\n",
       "      <td>0</td>\n",
       "    </tr>\n",
       "    <tr>\n",
       "      <th>L</th>\n",
       "      <td>158</td>\n",
       "      <td>883</td>\n",
       "      <td>3455</td>\n",
       "      <td>1079</td>\n",
       "      <td>2</td>\n",
       "    </tr>\n",
       "    <tr>\n",
       "      <th>S</th>\n",
       "      <td>0</td>\n",
       "      <td>5</td>\n",
       "      <td>26</td>\n",
       "      <td>13</td>\n",
       "      <td>0</td>\n",
       "    </tr>\n",
       "  </tbody>\n",
       "</table>\n",
       "</div>"
      ],
      "text/plain": [
       "promet    E    G     N     R  Z\n",
       "klas                           \n",
       "H        10   25   204    71  0\n",
       "L       158  883  3455  1079  2\n",
       "S         0    5    26    13  0"
      ]
     },
     "execution_count": 77,
     "metadata": {},
     "output_type": "execute_result"
    }
   ],
   "source": [
    "kon_tab = pd.crosstab(df_n['klas'], df_n['promet'])\n",
    "kon_tab"
   ]
  },
  {
   "cell_type": "markdown",
   "id": "587345c2-6952-47df-a41d-49ec3162cbc4",
   "metadata": {},
   "source": [
    "Nato izvedemo statistični test. Za to uporabimo funkcijo `chi2_contingency`, ki jo najdemo v knjižnici `scipy.stat`."
   ]
  },
  {
   "cell_type": "code",
   "execution_count": 79,
   "id": "00f9e3f5-4b97-4eb8-99ae-f0ff25c9ee1a",
   "metadata": {},
   "outputs": [
    {
     "data": {
      "text/plain": [
       "Chi2ContingencyResult(statistic=18.417542377560746, pvalue=0.018304940144070418, dof=8, expected_freq=array([[8.78098128e+00, 4.77204519e+01, 1.92606643e+02, 6.07873883e+01,\n",
       "        1.04535491e-01],\n",
       "       [1.57972686e+02, 8.58506323e+02, 3.46505564e+03, 1.09358472e+03,\n",
       "        1.88062721e+00],\n",
       "       [1.24633283e+00, 6.77322543e+00, 2.73377171e+01, 8.62788737e+00,\n",
       "        1.48372956e-02]]))"
      ]
     },
     "execution_count": 79,
     "metadata": {},
     "output_type": "execute_result"
    }
   ],
   "source": [
    "res = chi2_contingency(kon_tab)\n",
    "res"
   ]
  },
  {
   "cell_type": "markdown",
   "id": "05b23fa3-7f2c-4084-84a1-c568683463ab",
   "metadata": {},
   "source": [
    "Rezultat testa je n-terica, ki vključuje izračunano statistiko, p-vrednost, število prostostnih stopenj ter tabelo pričakovanih vrednosti frekvenc. N-terico lahko tudi razcepimo v posamične spremenljivke, nato pa preverimo še dodatne pogoje."
   ]
  },
  {
   "cell_type": "code",
   "execution_count": 81,
   "id": "15bd9d00-070a-4e8a-8e72-68c081cd4a8b",
   "metadata": {},
   "outputs": [
    {
     "name": "stdout",
     "output_type": "stream",
     "text": [
      "p=0.0183, pričakovane frekvence: skupaj=15, >5=11/0.73, <1=2\n"
     ]
    }
   ],
   "source": [
    "hi2, p, dof, ef = res\n",
    "ef = ef.ravel()             # raztegnemo 2D tabelo v 1D seznam vseh vrednosti frekvenc\n",
    "vec_od_pet = len(ef[ef>5])\n",
    "manj_od_ena = len(ef[ef<1])\n",
    "\n",
    "print(f'p={p:.4f}, pričakovane frekvence: skupaj={len(ef)}, >5={vec_od_pet}/{vec_od_pet/len(ef):.2f}, <1={manj_od_ena}')"
   ]
  },
  {
   "cell_type": "markdown",
   "id": "3e3318ac-b1ec-41b5-a25b-22a72f4c8c87",
   "metadata": {},
   "source": [
    "Ker za uporabo testa hi-kvadrat niso izpolnjeni pogoji, bomo poskusili združiti pojavnost nesreče s smrtnim izzidom (S) in nesreče s hudimi poškodbami (H). Prav tako bomo združili promet z zastoji (Z) s stolpcem gost promet (G)."
   ]
  },
  {
   "cell_type": "code",
   "execution_count": 83,
   "id": "c44a1521-32c4-43e5-81e8-c2b2e2e1b134",
   "metadata": {},
   "outputs": [
    {
     "data": {
      "text/html": [
       "<div>\n",
       "<style scoped>\n",
       "    .dataframe tbody tr th:only-of-type {\n",
       "        vertical-align: middle;\n",
       "    }\n",
       "\n",
       "    .dataframe tbody tr th {\n",
       "        vertical-align: top;\n",
       "    }\n",
       "\n",
       "    .dataframe thead th {\n",
       "        text-align: right;\n",
       "    }\n",
       "</style>\n",
       "<table border=\"1\" class=\"dataframe\">\n",
       "  <thead>\n",
       "    <tr style=\"text-align: right;\">\n",
       "      <th>promet</th>\n",
       "      <th>E</th>\n",
       "      <th>G</th>\n",
       "      <th>N</th>\n",
       "      <th>R</th>\n",
       "    </tr>\n",
       "    <tr>\n",
       "      <th>klas</th>\n",
       "      <th></th>\n",
       "      <th></th>\n",
       "      <th></th>\n",
       "      <th></th>\n",
       "    </tr>\n",
       "  </thead>\n",
       "  <tbody>\n",
       "    <tr>\n",
       "      <th>H</th>\n",
       "      <td>10</td>\n",
       "      <td>30</td>\n",
       "      <td>230</td>\n",
       "      <td>84</td>\n",
       "    </tr>\n",
       "    <tr>\n",
       "      <th>L</th>\n",
       "      <td>158</td>\n",
       "      <td>885</td>\n",
       "      <td>3455</td>\n",
       "      <td>1079</td>\n",
       "    </tr>\n",
       "  </tbody>\n",
       "</table>\n",
       "</div>"
      ],
      "text/plain": [
       "promet    E    G     N     R\n",
       "klas                        \n",
       "H        10   30   230    84\n",
       "L       158  885  3455  1079"
      ]
     },
     "execution_count": 83,
     "metadata": {},
     "output_type": "execute_result"
    }
   ],
   "source": [
    "#seštejemo dve vrstici\n",
    "kon_tab.loc['H'] += kon_tab.loc['S']\n",
    "kon_tab = kon_tab.drop(['S'])          #brisanje vrstice\n",
    "\n",
    "#seštejemo dva stolpca\n",
    "kon_tab['G'] += kon_tab['Z']\n",
    "kon_tab = kon_tab.drop('Z', axis=1)   #brisanje stolpca\n",
    "kon_tab"
   ]
  },
  {
   "cell_type": "markdown",
   "id": "fcf34bab-7bae-4966-a9ac-771b3fc49228",
   "metadata": {},
   "source": [
    "Test ponovimo na novi kontingenčni tabeli."
   ]
  },
  {
   "cell_type": "code",
   "execution_count": 85,
   "id": "e04d462c-978c-4088-8cf4-358bb818dfc0",
   "metadata": {},
   "outputs": [],
   "source": [
    "res = chi2_contingency(kon_tab)"
   ]
  },
  {
   "cell_type": "code",
   "execution_count": 87,
   "id": "b1ec6781-d186-4826-9e88-3408237ccb4c",
   "metadata": {},
   "outputs": [
    {
     "name": "stdout",
     "output_type": "stream",
     "text": [
      "p=0.0014, pričakovane frekvence: skupaj=8, >5=8/1.00, <1=0\n"
     ]
    }
   ],
   "source": [
    "hi2, p, dof, ef = res\n",
    "ef = ef.ravel()\n",
    "vec_od_pet = len(ef[ef>5])\n",
    "manj_od_ena = len(ef[ef<1])\n",
    "\n",
    "print(f'p={p:.4f}, pričakovane frekvence: skupaj={len(ef)}, >5={vec_od_pet}/{vec_od_pet/len(ef):.2f}, <1={manj_od_ena}')"
   ]
  },
  {
   "cell_type": "markdown",
   "id": "30683c7e-998a-4e5b-8a6d-35d37bb59ab8",
   "metadata": {},
   "source": [
    "Rezultati testa hi-kvadrat pokažejo, da lahko zavržemo nulto hipotezo, da sta spremenljivki neodvisni. Torej lahko rečemo, da sta teža nesreče in gostota prometa povezani. "
   ]
  },
  {
   "cell_type": "markdown",
   "id": "b2213e7b-790d-4cc1-9efe-b71a9bbe27ee",
   "metadata": {},
   "source": [
    "#### Analiza podatkov v grafu\n",
    "\n",
    "Za prikaze v grafih lahko uporabljamo funkcije, ki jih najdemo v knjižnici `pandas`. Knjižnica za izris grafov uporablja knjižnico `matplotlib`. Zato lahko z dodatno uporabo `matplotlib` pripravimo še nekoliko bolj bogate grafične prikaze.\n",
    "\n",
    "Najprej ustvarimo graf, v katerem bomo prikazali razultate. Na primer, ustvarili bomo sliko z dvema grafoma. Nato bomo pripravili dve kontingenčni tabeli. Zapomniti si velja, da je tudi rezultat funkcije `crosstab` dejansko novi `DataFrame`. Zato lahko uporabljamo vse funkcije, ki jih tudi sicer uporabljamo z `DataFrame` in smo jih že spoznali, tudi funkcije za izris grafa in filtriranje stolpcev in vrstic.\n",
    "\n",
    "Novost v prikazanem primeru je, da lahko funkcijam za izris grafa, kot parameter (parameter ax) podamo graf v katerem naj se izris pokaže. Če parametra ne podamo, pandas knjižnica sama ustvari novi graf. Če pa parameter podamo, bo DataFrame risal v podani obstoječi graf.\n",
    "\n",
    "Ker smo obstoječi graf sami ustvarili, imamo sedaj dostop tudi do številnih funkcij za prilagajanje izgleda grafov. Določimo lahko naslov grafa, oznake osi ...\n"
   ]
  },
  {
   "cell_type": "code",
   "execution_count": 194,
   "id": "e6e7af90-45b6-4e2e-856f-6608b5a0cf9a",
   "metadata": {},
   "outputs": [
    {
     "data": {
      "text/plain": [
       "Text(0, 0.5, 'št. nesreč')"
      ]
     },
     "execution_count": 194,
     "metadata": {},
     "output_type": "execute_result"
    },
    {
     "data": {
      "image/png": "[encoded data removed]",
      "text/plain": [
       "<Figure size 800x400 with 2 Axes>"
      ]
     },
     "metadata": {},
     "output_type": "display_data"
    }
   ],
   "source": [
    "fig, ax = plt.subplots(1, 2, figsize=(8, 4))\n",
    "\n",
    "g_tip, g_mesec = ax\n",
    "\n",
    "#izberemo prikaz lažjih prometnih nesreč - filter 'L'\n",
    "pd.crosstab(df_n['tip'], df_n['klas'])['L'].plot.bar(ax = g_tip)\n",
    "\n",
    "#izberemo prikaz hudih nesreč in nesreč s smrtnim izzidom - filter ['H', 'S']\n",
    "pd.crosstab(df_n['mesec'], df_n['klas'])[['H','S']].plot.bar(ax = g_mesec)\n",
    "\n",
    "fig.suptitle('Pregled nesreč')\n",
    "g_tip.set_ylabel('št. nesreč')\n"
   ]
  },
  {
   "cell_type": "markdown",
   "id": "e6175aac-2196-4267-be3e-5482e31b01bf",
   "metadata": {},
   "source": [
    "### Primer\n",
    "\n",
    "Za konec, z uporabo vsega do sedaj pridobljenega znanja, poskusimo s testom $\\chi^2$ preveriti še, ali sta vpliv substanc pri povzročitelju nesreče ter teža posledic prometne nesreče med seboj neodvisna.\n",
    "\n",
    "Na to vprašanje lahko odgovorimo, če poznamo stanje voznika in težo posledic. Slednji podatek smo že uporabljali in je shranjen v stolpcu __klas__. Kaj pa stanje voznika?\n",
    "\n",
    "V tabeli obtaja stolpec __osebe__, v katerem so zakodirani podatki o udeleženih osebah. Med drugim je v tem stolpcu zapisano kakšno vozilo je vozil povročitelj nesreče ter ali je bil izveden alkotest in test na droge in ali je test pozitiven.\n",
    "\n",
    "Težava je, da so vsi navedeni (in še več) podatki za vse udeležene osebe zakodirani v en sam znakovni niz (string). \n",
    "\n",
    "Spodnji primer prikazuje strukturo tega zapisa:\n",
    "\n",
    "> {D;OA;[25-34];P;0;0;0,N;TV;[25-34];N;0;0;0,N;PT;[35-44];0;0;0;0}\n",
    "\n",
    "- povzročitelj (da/ne)\n",
    "- vrsta vozila\n",
    "- starostna skupina (interval v letih)\n",
    "- alkotest\n",
    "- strokovni pregled alkoholoiziranosti\n",
    "- hitri test na mamila\n",
    "- strokovni pregled mamil\n",
    "\n",
    "Podatki o osebah so zapisani v zavitih oklepajih, posamezne osebe so ločene z vejico, podatki o eni osebi pa so ločeni s podpičjem. To pravilo lahko uporabimo, da bi iz podatkov prepoznali, ali je povzročitelj nesreče vozil pod vplivom prepovedanih substanc. Recimo, da nas zanima, ali ima vsaj en povzročitelj, če je le-teh več, zapisano črko P (pozitivno) pri zadnjih štirih podatkih o osebi (alkohol ali mamila). "
   ]
  },
  {
   "cell_type": "code",
   "execution_count": 199,
   "id": "151a8ddc-e912-456b-9d40-0fcf2589ccb9",
   "metadata": {},
   "outputs": [
    {
     "data": {
      "text/plain": [
       "0    {D;OA;[25-34];P;0;0;0,N;TV;[25-34];N;0;0;0,N;P...\n",
       "1          {D;MK;[55-64];N;0;0;0,N;PE;[55-64];0;0;0;0}\n",
       "2          {D;PE;[25-34];0;0;0;0,N;AV;[45-54];N;N;0;N}\n",
       "Name: osebe, dtype: object"
      ]
     },
     "execution_count": 199,
     "metadata": {},
     "output_type": "execute_result"
    }
   ],
   "source": [
    "df_n['osebe'].head(3)"
   ]
  },
  {
   "cell_type": "markdown",
   "id": "3901f9fb-f74a-4ca7-b95b-3a1cb125ce7e",
   "metadata": {},
   "source": [
    "Pripravili bomo lastno funkcijo, ki iz podatkov izlušči povročitelje ter preveri njihovo stanje. Funkcija naj vrne P, če je povročitelj pozitiven na katerokoli substanco in N, če ni ugotovljeno preseganje predpisanih mejnih vrednosti. "
   ]
  },
  {
   "cell_type": "code",
   "execution_count": 204,
   "id": "b978a58c-8f76-4b3a-9c08-69e2be5be891",
   "metadata": {},
   "outputs": [
    {
     "data": {
      "text/plain": [
       "'N'"
      ]
     },
     "execution_count": 204,
     "metadata": {},
     "output_type": "execute_result"
    }
   ],
   "source": [
    "x = '{D;OA;[45-54];N;0;0;0,N;OA;[35-44];N;0;0;0,N;OA;[45-54];0;0;0;0,N;OA;[25-34];N;0;0;0}'\n",
    "def alko(x):\n",
    "    substance = 'N'\n",
    "    osebe = x[1:-1].split(',')\n",
    "    for os in osebe:\n",
    "        oseba = os.split(';')\n",
    "        if oseba[0] == 'D' and (oseba[3]=='P' or oseba[4]=='P' or oseba[5]=='P' or oseba[6]=='P'):\n",
    "            substance = 'A'\n",
    "            break;\n",
    "    return substance\n",
    "\n",
    "#preverimo delovanje funkcije - s spreminjanjem niza x lahko preverimo različne kombinacije\n",
    "alko(x)\n",
    "    "
   ]
  },
  {
   "cell_type": "markdown",
   "id": "272ea6f9-c6a3-41ed-87b8-9301e8f26eb8",
   "metadata": {},
   "source": [
    "Funkcijo bomo aplicirali na vse vrstice tabele (spomni se na funkcijo `apply()`). Rezultat bomo za vsako vrstico zapisali v novi stolpec, ki ga bom opoimenovali 'alko'."
   ]
  },
  {
   "cell_type": "code",
   "execution_count": 212,
   "id": "83b12167-71f5-47b5-abb1-1b571c3f2c9e",
   "metadata": {},
   "outputs": [],
   "source": [
    "\n",
    "def alko(x):\n",
    "    substance = 'N'\n",
    "    osebe = x[1:-1].split(',')\n",
    "    for os in osebe:\n",
    "        oseba = os.split(';')\n",
    "        if oseba[0] == 'D' and (oseba[3]=='P' or oseba[4]=='P' or oseba[5]=='P' or oseba[6]=='P'):\n",
    "            substance = 'P'\n",
    "            break;\n",
    "    return substance\n",
    "    \n",
    "df_n['alko'] = df_n['osebe'].apply(alko)\n",
    "\n"
   ]
  },
  {
   "cell_type": "markdown",
   "id": "4672094d-cf39-425d-b111-da178b1531cd",
   "metadata": {},
   "source": [
    "Preverimo, koliko vrstic (tj. koliko nesreč) je takšnih, da smo ugotovili prisotnost prepovedanih substanc pri povzročitelju nesreče:"
   ]
  },
  {
   "cell_type": "code",
   "execution_count": 214,
   "id": "48146d6a-003a-4127-b4c9-8882f58fe62a",
   "metadata": {},
   "outputs": [
    {
     "data": {
      "text/plain": [
       "(412, 28)"
      ]
     },
     "execution_count": 214,
     "metadata": {},
     "output_type": "execute_result"
    }
   ],
   "source": [
    "df_n[df_n['alko']=='P'].shape"
   ]
  },
  {
   "cell_type": "markdown",
   "id": "ebd04888-024d-404c-b59c-d0ec9408b2f4",
   "metadata": {},
   "source": [
    "Prikažemo frekvence sovpadanja prepovedanih substanc pri povzročitelju ter težo prometne nesreče:"
   ]
  },
  {
   "cell_type": "code",
   "execution_count": 224,
   "id": "a12f2ce0-0b88-493d-9c75-ef03dd7d06b0",
   "metadata": {},
   "outputs": [
    {
     "data": {
      "text/html": [
       "<div>\n",
       "<style scoped>\n",
       "    .dataframe tbody tr th:only-of-type {\n",
       "        vertical-align: middle;\n",
       "    }\n",
       "\n",
       "    .dataframe tbody tr th {\n",
       "        vertical-align: top;\n",
       "    }\n",
       "\n",
       "    .dataframe thead th {\n",
       "        text-align: right;\n",
       "    }\n",
       "</style>\n",
       "<table border=\"1\" class=\"dataframe\">\n",
       "  <thead>\n",
       "    <tr style=\"text-align: right;\">\n",
       "      <th>klas</th>\n",
       "      <th>H</th>\n",
       "      <th>L</th>\n",
       "      <th>S</th>\n",
       "    </tr>\n",
       "    <tr>\n",
       "      <th>alko</th>\n",
       "      <th></th>\n",
       "      <th></th>\n",
       "      <th></th>\n",
       "    </tr>\n",
       "  </thead>\n",
       "  <tbody>\n",
       "    <tr>\n",
       "      <th>N</th>\n",
       "      <td>259</td>\n",
       "      <td>5238</td>\n",
       "      <td>22</td>\n",
       "    </tr>\n",
       "    <tr>\n",
       "      <th>P</th>\n",
       "      <td>51</td>\n",
       "      <td>339</td>\n",
       "      <td>22</td>\n",
       "    </tr>\n",
       "  </tbody>\n",
       "</table>\n",
       "</div>"
      ],
      "text/plain": [
       "klas    H     L   S\n",
       "alko               \n",
       "N     259  5238  22\n",
       "P      51   339  22"
      ]
     },
     "execution_count": 224,
     "metadata": {},
     "output_type": "execute_result"
    }
   ],
   "source": [
    "pd.crosstab(df_n['alko'], df_n['klas'])"
   ]
  },
  {
   "cell_type": "markdown",
   "id": "abd80b90-7eb7-4ba9-97fd-573490242f19",
   "metadata": {},
   "source": [
    "Izračunamo statistiko:"
   ]
  },
  {
   "cell_type": "code",
   "execution_count": 221,
   "id": "4f3959b1-a3c1-409b-9293-dc99135db241",
   "metadata": {},
   "outputs": [
    {
     "name": "stdout",
     "output_type": "stream",
     "text": [
      "p=0.0000, pričakovane frekvence: skupaj=6, >5=5/0.83, <1=0\n"
     ]
    }
   ],
   "source": [
    "res = chi2_contingency(pd.crosstab(df_n['alko'], df_n['klas']))\n",
    "\n",
    "hi2, p, dof, ef = res\n",
    "ef = ef.ravel()\n",
    "vec_od_pet = len(ef[ef>5])\n",
    "manj_od_ena = len(ef[ef<1])\n",
    "\n",
    "print(f'p={p:.4f}, pričakovane frekvence: skupaj={len(ef)}, >5={vec_od_pet}/{vec_od_pet/len(ef):.2f}, <1={manj_od_ena}')"
   ]
  },
  {
   "cell_type": "markdown",
   "id": "9ed9fe12-47c7-4be0-b485-bea98962c521",
   "metadata": {},
   "source": [
    "Sklenemo lahko, da sta vožnja pod vplivom prepovednih substanc ter teža prometne nesreče povezani.  "
   ]
  }
 ],
 "metadata": {
  "kernelspec": {
   "display_name": "Python [conda env:base] *",
   "language": "python",
   "name": "conda-base-py"
  },
  "language_info": {
   "codemirror_mode": {
    "name": "ipython",
    "version": 3
   },
   "file_extension": ".py",
   "mimetype": "text/x-python",
   "name": "python",
   "nbconvert_exporter": "python",
   "pygments_lexer": "ipython3",
   "version": "3.9.21"
  }
 },
 "nbformat": 4,
 "nbformat_minor": 5
}
