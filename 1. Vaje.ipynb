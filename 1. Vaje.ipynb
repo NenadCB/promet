{
 "cells": [
  {
   "cell_type": "markdown",
   "id": "3efb3874-8840-4925-99eb-e28ed0701a27",
   "metadata": {
    "editable": true,
    "slideshow": {
     "slide_type": ""
    },
    "tags": []
   },
   "source": [
    "# Tema 1: Osnove programiranja v Pythonu"
   ]
  },
  {
   "cell_type": "markdown",
   "id": "44765ea8-9d24-4777-98ec-e53d02dbb976",
   "metadata": {},
   "source": [
    "## Vaje"
   ]
  },
  {
   "cell_type": "markdown",
   "id": "19722db7-d5e9-4194-a61d-84f94f6ae14d",
   "metadata": {},
   "source": [
    "#### večkratniki\n",
    "a) Izpiši večkratnike (med 1 in 10) celega števila, ki ga vnese uporabnik. \\\n",
    "Primer izpisa:\n",
    "```\n",
    "5 * 1 = 5\n",
    "5 * 2 = 10\n",
    "5 * 3 = 15\n",
    "5 * 4 = 20\n",
    "5 * 5 = 25\n",
    "5 * 6 = 30\n",
    "5 * 7 = 35\n",
    "5 * 8 = 40\n",
    "5 * 9 = 45\n",
    "5 * 10 = 50\n",
    "```\n"
   ]
  },
  {
   "cell_type": "code",
   "execution_count": null,
   "id": "072f15ea-5bfd-4e36-b1c6-78f7acd3faf6",
   "metadata": {},
   "outputs": [],
   "source": []
  },
  {
   "cell_type": "markdown",
   "id": "f6841963-5925-442e-8b93-aa044509883c",
   "metadata": {},
   "source": [
    "b) Izpiši samo večkratnike množenja s sodimi števili med 1 in 10."
   ]
  },
  {
   "cell_type": "code",
   "execution_count": null,
   "id": "6b6c2276-d05d-4d50-a3aa-f6736bdf70c1",
   "metadata": {},
   "outputs": [],
   "source": []
  },
  {
   "cell_type": "markdown",
   "id": "80b5e0e5-7d67-447c-b665-1b2d5bc50487",
   "metadata": {},
   "source": [
    "#### izpiši števila in določi ali je sodo ali liho \n",
    "Uporabnik vnese celo število N. Program naj izpiše vsa števila med 1 in N in za vsako izpiše ali je sodo ali je liho. "
   ]
  },
  {
   "cell_type": "code",
   "execution_count": null,
   "id": "1746f8b5-aef4-4bc2-bd4b-f5b2273f3468",
   "metadata": {},
   "outputs": [],
   "source": []
  },
  {
   "cell_type": "markdown",
   "id": "32909dab-9b20-4255-844e-2c6af166f767",
   "metadata": {},
   "source": [
    "#### preveri ali je praštevilo\n",
    "Uporabnik vnese celo število N. Program naj preveri in izpiše ali je N praštevilo."
   ]
  },
  {
   "cell_type": "code",
   "execution_count": null,
   "id": "1a1d1c7b-f7a0-4a54-ae3f-3c1cc9150503",
   "metadata": {},
   "outputs": [],
   "source": []
  },
  {
   "cell_type": "markdown",
   "id": "7b3153fd-a16b-4016-b75e-e7c37dd8fa47",
   "metadata": {},
   "source": [
    "#### preprosta blagajna\n",
    "Uporabnik vnaša decimalna števila enega za drugim. Napiši program, ki sešteva vnose uporabnika. Po vsakem vnosu program izpiše trenutno vsoto vseh do takrat vnesenih števil. Če uporabnik samo pritisne tipko Enter, brez vnosa števila, program zaključi z delovanjem. "
   ]
  },
  {
   "cell_type": "code",
   "execution_count": null,
   "id": "c66bbd9a-680c-4a69-b3a8-4584fccf5f32",
   "metadata": {},
   "outputs": [],
   "source": []
  },
  {
   "cell_type": "markdown",
   "id": "9b76f7c3-869f-48d5-9c1c-206bf91f9c0b",
   "metadata": {},
   "source": [
    "#### poišči kroglico\n",
    "V igri \"poišči kroglico\" uporabimo tri kozarčke in eno kroglico. Kozarčke obrnemo z odprtino navzdol in jih zložimo v vrsto. Kroglico postavimo pod en kozarček. Kozarčke nato z drsenjem po mizi med seboj zamenjujemo. Cilj opazovalca je, da po določenem številu premikov, ugotovi kje se nahaja kroglica.\n",
    "\n",
    "Napiši program, ki za znano zaporedje premikov kozačkov izpiše pravilno lokacijo kroglice.\n",
    "\n",
    "__Primer:__ Označimo pozicije kozarčkov z 1, 2 in 3. Če zamenjamo kozarčka na pozicijah 1 in 2, ta premik označimo z A. Če zamenjamo kozarčka na pozicijah 2 in 3, ta premik označimo z B. Če zamenjamo kozarčka na pozicijah 1 in 3, pa premik označimo s C. To so tudi vsi možni premiki. \n",
    "\n",
    "Predpostavimo, da je kroglica na začetku pod kozarčkom na poziciji 1. \\\n",
    "Recimo še, da smo zabeležili, da so bili izvedeni naslednji premiki: ABCBAACBABBCA\n",
    "\n",
    "Na kateri poziciji je kroglica?\n",
    "\n",
    "Ko napišeš program, se lahko pozabavaš z igranjem te preproste igre:\n",
    "https://www.safekidgames.com/where-is-the-ball/\n"
   ]
  },
  {
   "cell_type": "code",
   "execution_count": null,
   "id": "8d1f4524-a575-4ae6-8723-38dea73b9bda",
   "metadata": {},
   "outputs": [],
   "source": []
  },
  {
   "cell_type": "markdown",
   "id": "ab6a947b-3e0f-4457-be1e-21f926116049",
   "metadata": {},
   "source": [
    "#### zavijanje darila\n",
    "Napiši program, ki bo zavil darilo v $n$ ovojev. Program naj na sredo zapiše črko a, ki jo 'ovije' v ovoj iz črk b. Tako pripravljen paket nato ovije v ovoj iz črk c... Program nadaljuje do n-te črke angleške abecede. \n",
    "\n",
    "Primer za $n=4$:\n",
    "```\n",
    "ddddddd\n",
    "dcccccd\n",
    "dcbbbcd\n",
    "dcbabcd\n",
    "dcbbbcd\n",
    "dcccccd\n",
    "ddddddd\n",
    "```"
   ]
  },
  {
   "cell_type": "code",
   "execution_count": 19,
   "id": "75c7503a-71fc-4a4d-952c-2e7fecf7f858",
   "metadata": {},
   "outputs": [],
   "source": [
    "n = 4 \n",
    "ovoji = 'abcdefghijklmn'"
   ]
  },
  {
   "cell_type": "markdown",
   "id": "5fe28ba6-b293-4bd2-a74c-bad9352c16a5",
   "metadata": {},
   "source": [
    "##### izpis pravega števila vrstic"
   ]
  },
  {
   "cell_type": "code",
   "execution_count": null,
   "id": "18d69d31-ce93-4691-9267-cd4594f042e7",
   "metadata": {},
   "outputs": [],
   "source": []
  },
  {
   "cell_type": "markdown",
   "id": "13d93783-aa67-4464-9c1f-19b8e908ab3a",
   "metadata": {},
   "source": [
    "##### izpis pravega števila stolpcev"
   ]
  },
  {
   "cell_type": "code",
   "execution_count": null,
   "id": "a1f90ff0-38a9-46f9-91b7-f7e1cb626f23",
   "metadata": {},
   "outputs": [],
   "source": []
  },
  {
   "cell_type": "markdown",
   "id": "0d70a0fd-e53b-414f-8634-e3e72ece7383",
   "metadata": {},
   "source": [
    "##### določimo oddaljenost od sredine"
   ]
  },
  {
   "cell_type": "markdown",
   "id": "8e010291-d4c9-4368-b153-6f8fd52b0e66",
   "metadata": {},
   "source": [
    "Določimo še kaj se izpiše na mestu posameznega x. Iz primerov lahko vidimo, da je na sredini izpisana 0. črka zaporedja ovojev. Vse črke, ki so v razdalji 1 črke od sredine, izpišemo kot 1. črko zaporedja (to je črka b), če je oddaljenost od sredine 2, izpišemo drugo črko zaporedja (to je črka c)... Torej če znamo izrčaunati oddaljenost od sredine, nam to da odgovor, katero črko moramo na tem mestu izpisati.\n",
    "\n",
    "Kako pa bomo vedeli, kako smo oddaljeni od sredine kvadrata? Sredina je vedno poznana, in sicer je to število n, torej na mestu (n,n), kar pomeni n-ta vrstica in n-ti stolpec bomo izpisali črko a.\n",
    "Lokacijo posameznega x, torej črke, ki jo trenutno želimo napisati pa tudi poznamo. Lokacijo nam določa par (i,j).\n",
    "Kako sedaj iz znane lokacije (i,j) izračunati oddaljenost od točke (n,n)? \n",
    "\n",
    "Da bi izračunali oddaljenost od sredine, izračunamo posebej oddaljenost v vertikalni smeri in oddaljenost v horizontalni smeri. Nato pa pogledamo, katera je večja. Torej izračunamo obe razliki, n-i in n-j seveda v absolutni vrednosti, ter pogledamo katera je večja. Če smo pozorni, opazimo lahko, da je potrebna še manjša korekcija. Oba indeksa i in j namreč začnemo šteti z 0. Naša vrednost n pa določa sredino kvadrata, kot da bi od roba kvadrata šteli od 1. Zato moramo pri računanju oddaljenosti n zmanjšati za 1.\n",
    "\n",
    "``` Python\n",
    "d_v = abs(n-1 - i)  # odmik (i,j) v vertikalni smeri od (n-1, n-1)\n",
    "d_h = abs(n-1 - j)  # odmik (i,j) v horizontalni smeri od (n-1, n-1)\n",
    "```\n",
    "Nato pa pogledamo koliko znaša večji odmik:\n",
    "``` Python\n",
    "d = max(d_v, d_h)\n",
    "```\n",
    "Naš program lahko sedaj dopolnimo in namesto x izpišemo oddaljenost d:"
   ]
  },
  {
   "cell_type": "code",
   "execution_count": null,
   "id": "63ef7213-dacb-49b9-a9af-59609d442fbf",
   "metadata": {},
   "outputs": [],
   "source": []
  },
  {
   "cell_type": "markdown",
   "id": "cd18a631-9ad2-45c0-b189-0a01b1d291d4",
   "metadata": {},
   "source": [
    "##### izpišemo ovoje"
   ]
  },
  {
   "cell_type": "markdown",
   "id": "c07d2365-6732-451e-b3de-028ab111a890",
   "metadata": {},
   "source": [
    "Na koncu še zamenjamo številko, ki predstavlja oddaljenost, s črko, ki označuje ovoj. Iz niza črk moramo vzeti črko, ki je na d-tem mestu.\n",
    "``` Python\n",
    "crka = ovoji[d]\n",
    "```\n"
   ]
  },
  {
   "cell_type": "code",
   "execution_count": null,
   "id": "364acd64-3bd9-43aa-b273-ce9c8412ca0a",
   "metadata": {},
   "outputs": [],
   "source": []
  }
 ],
 "metadata": {
  "kernelspec": {
   "display_name": "Python [conda env:base] *",
   "language": "python",
   "name": "conda-base-py"
  },
  "language_info": {
   "codemirror_mode": {
    "name": "ipython",
    "version": 3
   },
   "file_extension": ".py",
   "mimetype": "text/x-python",
   "name": "python",
   "nbconvert_exporter": "python",
   "pygments_lexer": "ipython3",
   "version": "3.9.21"
  }
 },
 "nbformat": 4,
 "nbformat_minor": 5
}
