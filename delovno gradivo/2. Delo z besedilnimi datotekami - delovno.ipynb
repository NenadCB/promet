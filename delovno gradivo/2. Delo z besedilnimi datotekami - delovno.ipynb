{
 "cells": [
  {
   "cell_type": "code",
   "execution_count": 13,
   "id": "25a0c1ee-4228-496e-9150-b33e12248d39",
   "metadata": {},
   "outputs": [],
   "source": [
    "import matplotlib.pyplot as plt\n",
    "import numpy as np"
   ]
  },
  {
   "cell_type": "markdown",
   "id": "39c5e745-87de-426e-9094-b958b7bc9d3a",
   "metadata": {},
   "source": [
    "# Tema 2: branje besedilnih datotek, delo z znakovnimi nizi in grafi "
   ]
  },
  {
   "cell_type": "markdown",
   "id": "a6d7b7b6-cc00-4549-80ce-c8c97146721c",
   "metadata": {},
   "source": [
    "Iz portala podatki.gov.si snamemo datoteko s podatki števcev prometa kolesarjev _`kolesarjidnevnipromet2023.csv`_ in jo shranimo v mapo, kjer se nahaja jupyter notebook s katerim bomo odpirali datoteko.\n",
    "\n",
    "Naslov: \n",
    "https://podatki.gov.si/dataset/74b72bad-6ca2-4722-b058-bc1054d6f628/resource/70c761e1-85be-4c7f-90d2-f50af599a267/download/kolesarjidnevnipromet2023.csv\n",
    "\n",
    "Kaj bomo naredili?\n",
    "- preberemo vsebino datoteke in jo izpišemo na zaslon\n",
    "- prebrane vrednosti števcev za Predor Valeta, Žusterno in Škofije prepišemo v sezname\n",
    "- v izhodno datoteko zapišemo podatke o števčnem stanju za vse dni avgusta za lokacijo Žusterna \n",
    "- narišemo stolpični graf stanja števcev po dnevih za vse tri kraje\n",
    "- na eno sliko narišemo tri ločene stolpične grafe, za vsak kraj posebej\n",
    "- za vsak kraj poiščemo dan z največjim stanjem števca\n",
    "- za vsak kraj prikažemo graf za mesec z največjim prometom\n",
    "\n",
    "Kaj potrebujemo za izvedbo naloge?\n",
    "- branje besedilnih datotek\n",
    "- delo z besedilnimi nizi (stringi)\n",
    "- delo s seznami\n",
    "- zapisovanje v besedilne datoteke\n",
    "- uporaba knjižnice za risanje grafov\n"
   ]
  },
  {
   "cell_type": "markdown",
   "id": "721ab680-678d-4d45-a98b-73e34d374ee7",
   "metadata": {},
   "source": [
    "## branje in izpis vsebine besedilne datoteke"
   ]
  },
  {
   "cell_type": "code",
   "execution_count": null,
   "id": "a2bf6526-97d1-4d94-8be8-0ba249db2b72",
   "metadata": {},
   "outputs": [],
   "source": []
  },
  {
   "cell_type": "markdown",
   "id": "d1c2a058-76c7-47b0-a1ac-bf6c0f1bf0f5",
   "metadata": {},
   "source": [
    "## prepis podatkov v sezname\n",
    "Ob pregledu vsebine besedilne datoteke ugotovimo, da se v prvi vrstici nahaja naslov, v drugi vrstici pa so našteta imena stolpcev.\n",
    "\n",
    "Ugotovimo, da so podatki za števna mesta, ki jih želimo obravnavati navedeni v naslednjih stolpcih:\n",
    "* predor Valeta - stolpec 4\n",
    "* Žusterna - stolpec 6\n",
    "* Škofije - stolpec 13\n",
    "\n",
    "Zapis podatkov v vseh vrsticah je enak in sledi naslednji shemi:\n",
    "```\n",
    " 8.01.2023;3;2;51;21;311;10;7;;15;18;;33;;;;;;;;47;;9;\n",
    "```"
   ]
  },
  {
   "cell_type": "markdown",
   "id": "687cdb3e-d75b-4394-9035-2ec36b698530",
   "metadata": {},
   "source": [
    "### delo z znakovnim nizom (vrstica)\n",
    "Besedilne datoteke beremo po vrsticah. Če želimo uporabiti podatke iz 'stolpcev' 1, 4, 6 in 13, moramo vrstico razcepiti. \n",
    "\n",
    "Za delo z besedilnimi nizi uporabimo metode (funkcije) podatkovne strukture str (string).\n",
    "\n",
    "- `strip`: funkcija na začetku in na koncu niza zbriše izbrane znake (privzeto ' ' in '\\n')\n",
    "- `split`: funkcija razcepi niz in vrne seznam vseh delov"
   ]
  },
  {
   "cell_type": "code",
   "execution_count": null,
   "id": "814d259b-479b-43f6-bd10-e230a6b1fbd0",
   "metadata": {},
   "outputs": [],
   "source": []
  },
  {
   "cell_type": "markdown",
   "id": "90b5b402-973d-4554-8049-c63ee944ca00",
   "metadata": {},
   "source": [
    "#### indeksiranje in rezanje\n",
    "Iz besedilnega niza lahko pridobimo podniz z indeksom posamezne črke in z rezanjem (slicing).\n",
    "\n",
    "```\n",
    "vrstica[št.črke] - vrne posamezno črko\n",
    "vrstica[od:do:korak] - vrne podniz s pričetkom pri črki od, koncem PRED črko do in vrne samo vsako 'korak' črko\n",
    "```"
   ]
  },
  {
   "cell_type": "code",
   "execution_count": null,
   "id": "5e29ef9d-a8bf-4112-8e52-5ff428291bc3",
   "metadata": {},
   "outputs": [],
   "source": []
  },
  {
   "cell_type": "code",
   "execution_count": null,
   "id": "35d8b205-fd04-417a-ac14-566de40b38b1",
   "metadata": {},
   "outputs": [],
   "source": []
  },
  {
   "cell_type": "markdown",
   "id": "e19f1d91-edd3-43b0-9d21-a798431d0658",
   "metadata": {},
   "source": [
    "#### dodajanje elementa v seznam"
   ]
  },
  {
   "cell_type": "code",
   "execution_count": null,
   "id": "543a0bd5-8b21-4c44-97e9-22edf2bc484e",
   "metadata": {},
   "outputs": [],
   "source": []
  },
  {
   "cell_type": "markdown",
   "id": "a71107e9-6627-49b1-89b3-831aad70d546",
   "metadata": {},
   "source": [
    "#### polnjenje seznamov s podatki iz izbranih stolpcev\n",
    "Če želimo prebrane podatke iz datoteke shraniti v spremenljivke, lahko v ta namen uporabimo podatkovno strukturo seznam. Kako bomo podatke razdelili v sezname je odvisno od potreb in od primera uporabe. V našem primeru bomo v sezname prepisali izbrane stolpce datoteke.\n",
    "\n",
    "Nalaganje podatkov bo potekalo po naslednjem algoritmu:\n",
    "```\n",
    "odpremo datoteko\n",
    "preskočimo dve vrstici\n",
    "pripravimo prazne sezname\n",
    "za vsako vrstico\n",
    "    razcepimo vrstico na stolpce\n",
    "    dodamo stolpec 0 v seznam datumov\n",
    "    dodamo stolpec 3 v seznam valeta\n",
    "    dodamo stolpec 5 v seznam zusterna\n",
    "    dodamo stolpec 12 v seznam skofije\n",
    "```\n",
    "\n",
    "Pri polnjenju seznamov bomo potrebovali:\n",
    "- funkcija `strip()` - počisti znake, ki jih ne potrebujemo, na začetku in na koncu besedilnega niza\n",
    "- funkcija `split()` - razcepi niz na seznam elementov glede na izbrano ločilo\n",
    "- funkcija `replace()` - zamenja znak ali niz znakov v besedilnem nizu\n"
   ]
  },
  {
   "cell_type": "code",
   "execution_count": null,
   "id": "f1c3bbed-38c1-4fd6-a888-744632744a0f",
   "metadata": {},
   "outputs": [],
   "source": []
  },
  {
   "cell_type": "markdown",
   "id": "35c01f85-5140-4900-b9ae-7c7c2d746996",
   "metadata": {},
   "source": [
    "## zapis podatkov v izhodno datoteko\n",
    "\n",
    "Datumi so shranjeni v svojem seznamu, števčna stanja za Žusterno pa so shranjena v svojem seznamu. Pomembno je vedeti, da ima števčno stanje v seznamu zusterna enak položaj (indeks), kot ima položaj datum v seznamu datumov. \n",
    "\n",
    "Dva načina uparjanja istoležnih elementov seznamov:\n",
    "- `enumerate`: funkcija vrne zaporedno številko elementa in element seznama\n",
    "- `zip`: funkcija tvori n-terice (tuple) istoležnih elementov seznamov"
   ]
  },
  {
   "cell_type": "code",
   "execution_count": null,
   "id": "0c8b2059-4166-43d1-8fbb-54f6f4b5da89",
   "metadata": {},
   "outputs": [],
   "source": []
  },
  {
   "cell_type": "code",
   "execution_count": null,
   "id": "f6c02550-429c-4783-8de1-5a4ef86fc354",
   "metadata": {},
   "outputs": [],
   "source": []
  },
  {
   "cell_type": "markdown",
   "id": "f4b32a91-c518-4f20-a02f-c066f3f4669e",
   "metadata": {},
   "source": [
    "## risanje grafa"
   ]
  },
  {
   "cell_type": "code",
   "execution_count": null,
   "id": "efa18c45-16bd-43fd-9227-9d0218fa45df",
   "metadata": {},
   "outputs": [],
   "source": []
  },
  {
   "cell_type": "markdown",
   "id": "a635b954-84c0-45a8-b9ce-9c0a310cb100",
   "metadata": {},
   "source": [
    "### preprost graf"
   ]
  },
  {
   "cell_type": "code",
   "execution_count": null,
   "id": "0683b2c2-1ddf-4f2e-85e3-fe588772b208",
   "metadata": {},
   "outputs": [],
   "source": []
  },
  {
   "cell_type": "markdown",
   "id": "3b61ef3a-0443-4650-87f6-6e1e849ae924",
   "metadata": {},
   "source": [
    "### slika z več grafi"
   ]
  },
  {
   "cell_type": "code",
   "execution_count": null,
   "id": "502ce5da-57bc-42f7-a156-b62c5f3fa73a",
   "metadata": {},
   "outputs": [],
   "source": []
  },
  {
   "cell_type": "markdown",
   "id": "994508ae-d5a9-43d3-84e4-35cfeadc01b4",
   "metadata": {},
   "source": [
    "## dnevi z navišjim prometom"
   ]
  },
  {
   "cell_type": "code",
   "execution_count": null,
   "id": "5d53651a-d410-476e-9fa5-a2bcc47e850a",
   "metadata": {},
   "outputs": [],
   "source": []
  },
  {
   "cell_type": "markdown",
   "id": "42ffca30-fdd0-4354-8aa5-c6d5a8e9ec48",
   "metadata": {},
   "source": [
    "## prikaz stanj za najbolj prometni mesec"
   ]
  },
  {
   "cell_type": "code",
   "execution_count": 15,
   "id": "add6e56c-fe3d-4b89-85b0-41e853a37cc7",
   "metadata": {},
   "outputs": [],
   "source": [
    "\n",
    "razponi = [\n",
    " (0, 30),\n",
    " (31, 58),\n",
    " (59, 89),\n",
    " (90, 119),\n",
    " (120, 150),\n",
    " (151, 180),\n",
    " (181, 211),\n",
    " (212, 242),\n",
    " (243, 272),\n",
    " (273, 303),\n",
    " (304, 333),\n",
    " (334, 364)]\n",
    "\n"
   ]
  },
  {
   "cell_type": "code",
   "execution_count": 16,
   "id": "1ab46f3d-3b14-4785-9835-77de784d4e44",
   "metadata": {},
   "outputs": [
    {
     "data": {
      "image/png": "[encoded data removed]",
      "text/plain": [
       "<Figure size 800x400 with 1 Axes>"
      ]
     },
     "metadata": {},
     "output_type": "display_data"
    }
   ],
   "source": [
    "with plt.xkcd():\n",
    "    fig, ax = plt.subplots(figsize=(8,4))\n",
    "\n",
    "    ax.boxplot((valeta, zusterna, skofije), vert=False, showmeans=True, \n",
    "               meanline=True,\n",
    "               tick_labels=('valeta', 'žusterna', 'škofije'), \n",
    "               patch_artist=False,\n",
    "               medianprops={'linewidth': 2, 'color': 'purple'},\n",
    "               meanprops={'linewidth': 2, 'color': 'cyan'});"
   ]
  },
  {
   "cell_type": "markdown",
   "id": "b967fe15-2c8a-4630-af0d-719907f59e17",
   "metadata": {},
   "source": [
    "## za doma"
   ]
  },
  {
   "attachments": {},
   "cell_type": "markdown",
   "id": "7245528e-0182-407b-88fc-f5890e0cdf69",
   "metadata": {},
   "source": [
    "#### prometne obremenitve - filtriraj podatke\n",
    "\n",
    "Iz portala Odprti podatki Slovenije snamite datoteko s podatki povprečnega letnega dnevnega prometa (PLDP) državnega cestnega omrežja za leto 2023.\n",
    "\n",
    "Datoteko najdete na naslovu: https://podatki.gov.si/dataset/86c39f5b-4a57-4976-a6ac-987df32c84b1/resource/25d69bac-c21d-4243-a8ed-8be49aa93f9f/download/pldp2023noo.csv\n",
    "\n",
    "Napišite program, ki iz vhodne datoteke za vse navedene odseke prebere podatke o povprečnem letnem dnevnem prometu. Ustvarite novo izhodno datoteko v katero zapišite samo podatke iz stolpcev `Kat. ceste`, `Štev. ceste`,\t`Štev. odseka`,\t`Prometni odsek` ter `Vsa vozila`.\n",
    "\n",
    "Glede na to, da so vrednosti v stolpcu `Vsa vozila` zapisane s piko kot ločilom, ki določa tisočice, v izhodno datoteko zapišite številko kot celo število brez pike.\n",
    "\n",
    "Pri zapisu v izhodno datoteko upoštevajte še, da zapišete samo tiste vrstice, kjer je podatek v stolpcu Avtobusi večji od 150.\n"
   ]
  }
 ],
 "metadata": {
  "kernelspec": {
   "display_name": "Python [conda env:base] *",
   "language": "python",
   "name": "conda-base-py"
  },
  "language_info": {
   "codemirror_mode": {
    "name": "ipython",
    "version": 3
   },
   "file_extension": ".py",
   "mimetype": "text/x-python",
   "name": "python",
   "nbconvert_exporter": "python",
   "pygments_lexer": "ipython3",
   "version": "3.9.21"
  }
 },
 "nbformat": 4,
 "nbformat_minor": 5
}
