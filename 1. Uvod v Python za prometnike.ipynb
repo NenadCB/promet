{
 "cells": [
  {
   "cell_type": "markdown",
   "id": "3efb3874-8840-4925-99eb-e28ed0701a27",
   "metadata": {
    "editable": true,
    "slideshow": {
     "slide_type": ""
    },
    "tags": []
   },
   "source": [
    "# Tema 1: Osnove programiranja v Pythonu"
   ]
  },
  {
   "cell_type": "markdown",
   "id": "66399091-0088-46ae-a47c-38ad99cfcf36",
   "metadata": {},
   "source": [
    "## Osnovni koncepti"
   ]
  },
  {
   "cell_type": "markdown",
   "id": "490fb7d4-a029-4fa3-9f83-00541b4918fa",
   "metadata": {},
   "source": [
    "### Podatki, podatkovni tipi in spremenljivke\n",
    "Podatki so bistvenega pomena za katerikoli računalniški program. Programi shranjujejo in preoblikujejo podatke ter na osnovi podatkov sprejemajo odločitve. Za obdelavo podatkov je pomembna tako __vsebina podatkov__, torej same vrednosti, kot tudi oblika oziroma __tip podatkov__. Tip podatka določa, kaj s podatkom v programu sploh lahko počnemo, katere operacije so nam na voljo in kakšno vsebino lahko hranimo. V nadaljevanju si bomo ogledali nekaj preprostih tipov podatkov ter nekaj sestavljenih podatkovnih tipov, ki jih običajno srečamo v kateremkoli programu. \n",
    "\n",
    "Podatke hranimo v računalniškem pomnilniku. Do podatkov v pomnilniku dostopamo preko logičnih imen s katerimi poimenujemo prostor v pomnilniku. Z enim izrazom vsa ta imena nazivamo __spremenljivka__. Spremenljivka je torej konstrukt s katerim lahko dostopamo do vrednosti podatkov. Primeri prikazujejo določanje vrednosti spremenljivkam. Imena spremenljivk si izmislimo, vendar moramo upoštevati, da je v Pythonu dovoljeno za poimenovanje spremenljivk uporabljati le črke, številke in podčrtaj ('_'), pri tem pa se ime spremenljivke ne sme pričeti s številko.\n",
    "\n",
    "Spremenljivki določimo vrednost s __prireditvenim stavkom__. Vrednost izraza na desni strani enačaja se shrani v spremenljivko, ki je navedena na levi strani enačaja. NIKOLI OBRATNO!\n",
    "\n",
    "Tip spremenljivke se določi, ko se izvede prireditev vrednosti.\n"
   ]
  },
  {
   "cell_type": "code",
   "execution_count": 4,
   "id": "105b0e4b-24f3-493d-ae2c-feb38b9dbe08",
   "metadata": {},
   "outputs": [],
   "source": [
    "#enostavni podatkovni tipi\n",
    "celo_stevilo = 10\n",
    "decimalno_stevilo = 8.23\n",
    "znakovni_niz = 'poljubno dolgo besedilo'\n",
    "boolean_vrednost = True\n",
    "\n",
    "#sestavljeni podatkovni tipi\n",
    "seznam = [1, 2, 3, 'beseda', 5]\n",
    "n_terica = (1, 2, 3)\n",
    "slovar = {'prvi':'april', 'osmi':'marec', 31:'oktober'}\n",
    "mnozica = {5, 8, 'a'}\n",
    "\n",
    "#slovar seznamov\n",
    "dogodek = {\n",
    "    'vrsta' : 'nesreča',\n",
    "    'lokacija' : [13.834558195138277, 45.552012810664635]\n",
    "}\n",
    "\n",
    "#slovar slovarjev\n",
    "dogodki = {\n",
    "    '2031' : {\n",
    "                'vrsta' : 'nesreča',\n",
    "                'lokacija' : [13.834558195138277, 45.552012810664635]\n",
    "            },\n",
    "    '5144' : {\n",
    "                'vrsta' : 'delo na cesti',\n",
    "                'lokacija' : [14.006344969858064, 46.447003586547481]\n",
    "            }\n",
    "\n",
    "}"
   ]
  },
  {
   "cell_type": "markdown",
   "id": "cbea6d69-0088-4f8d-9dc4-b8f453d88e86",
   "metadata": {},
   "source": [
    "Do podatkov v sestavljenih podatkovnih navadno strukturah dostopamo s številskimi ali imenskimi indeksi:"
   ]
  },
  {
   "cell_type": "code",
   "execution_count": 99,
   "id": "cec2b399-27ab-4f7e-819e-cd2dd7ab507a",
   "metadata": {},
   "outputs": [
    {
     "data": {
      "text/plain": [
       "46.44700358654748"
      ]
     },
     "execution_count": 99,
     "metadata": {},
     "output_type": "execute_result"
    }
   ],
   "source": [
    "dogodki['5144']['lokacija'][1]"
   ]
  },
  {
   "cell_type": "markdown",
   "id": "a1b870b2-5b8a-4200-a71c-2e753926682a",
   "metadata": {},
   "source": [
    "### Enostaven izpis in vnos\n",
    "Program lahko podatke, ki jih potrebuje za obdelavo prebere iz datoteke na disku ali iz spleta. Lahko pa podatke uporabnik tudi vpiše. V Juypter notebook bomo navadno vhodne podatke vnesli v obliki prireditvenega stavka. Sicer pa običajno zgradimo uporabniški vmesnik, ki omogoča vnos vhodnih podatkov.\n",
    "\n",
    "Rezultate lahko prikažemo v obliki izpisa na zaslon, v grafični obliki ali pa jih zapišemo v izhodno datoteko. V Jupyter notebook-u bomo rezutate prikazali v obliki izpisa ali grafa pod celico, kjer jih bomo izračunali."
   ]
  },
  {
   "cell_type": "code",
   "execution_count": 5,
   "id": "6be97afc-5a80-44dc-a65d-1b04f0876375",
   "metadata": {},
   "outputs": [
    {
     "name": "stdout",
     "output_type": "stream",
     "text": [
      "izpiši kar je v oklepajih funkcije print()\n",
      "izpiši in vstavi vrednost spremenljivke 8.23 in [1, 2, 3, 4, 5]\n"
     ]
    }
   ],
   "source": [
    "print('izpiši kar je v oklepajih funkcije print()')\n",
    "print(f'izpiši in vstavi vrednost spremenljivke {decimalno_stevilo} in {seznam}')"
   ]
  },
  {
   "cell_type": "code",
   "execution_count": 124,
   "id": "5f64ec0a-9bbf-4c9d-9186-5f31e203c31c",
   "metadata": {},
   "outputs": [
    {
     "name": "stdin",
     "output_type": "stream",
     "text": [
      "vnesi število:  22\n"
     ]
    },
    {
     "name": "stdout",
     "output_type": "stream",
     "text": [
      "vnesel si: 22\n"
     ]
    }
   ],
   "source": [
    "vnos = input('vnesi število: ')\n",
    "print(f'vnesel si: {vnos}')"
   ]
  },
  {
   "cell_type": "code",
   "execution_count": 126,
   "id": "b2e3ce53-c800-4a15-bf46-e711e0d6cce5",
   "metadata": {},
   "outputs": [
    {
     "name": "stdout",
     "output_type": "stream",
     "text": [
      "ali te je rezultat 2222 presenetil?\n"
     ]
    }
   ],
   "source": [
    "rezultat = vnos * 2\n",
    "print(f'ali te je rezultat {rezultat} presenetil?')"
   ]
  },
  {
   "cell_type": "markdown",
   "id": "21c95895-31d0-4d26-ab01-fc0b4b930680",
   "metadata": {},
   "source": [
    "### Operatorji in izrazi\n",
    "Podatkovni tip določa, kaj je s podatki v spremenljivki mogoče narediti, t.j. katere operatorje in funkcije je mogoče nad podatki uporabiti. "
   ]
  },
  {
   "cell_type": "code",
   "execution_count": 172,
   "id": "df1af1c8-3647-4acc-8dd6-b4867568bb1d",
   "metadata": {},
   "outputs": [
    {
     "name": "stdout",
     "output_type": "stream",
     "text": [
      "1.75\n",
      "1\n",
      "3\n",
      "-1.75\n",
      "-2\n",
      "dve besedi dve besedi\n",
      "dve besedidve besedidve besedidve besedi\n"
     ]
    }
   ],
   "source": [
    "a = celo_stevilo + decimalno_stevilo\n",
    "b = celo_stevilo * decimalno_stevilo\n",
    "a = a**2\n",
    "\n",
    "a = a + 1  #uporabi staro vrednost a in rezultat zapiši v a kot novo vrednost\n",
    "a += 1\n",
    "\n",
    "#celoštevilsko deljenje\n",
    "a = 7\n",
    "b = 4\n",
    "print(a/b)\n",
    "print(a//b)\n",
    "\n",
    "#ostanek pri deljenju\n",
    "print(a%b)\n",
    "\n",
    "#zaokrožanje navzdol !!!\n",
    "a = -7\n",
    "b = 4\n",
    "print(a/b)\n",
    "print(a//b)\n",
    "\n",
    "#seštevanje in množenje znakovnih nizov\n",
    "niz = 'dve besedi'\n",
    "sestej = niz + ' ' + niz\n",
    "mnozi = niz * 4\n",
    "print(sestej)\n",
    "print(mnozi)"
   ]
  },
  {
   "cell_type": "markdown",
   "id": "fe0ee406-b647-4dde-8913-adfc10effb86",
   "metadata": {},
   "source": [
    "### Pretvorbe med podatkovnimi tipi"
   ]
  },
  {
   "cell_type": "code",
   "execution_count": 142,
   "id": "d40bcd6c-e4fa-4e33-b203-d645121ed57b",
   "metadata": {},
   "outputs": [
    {
     "name": "stdout",
     "output_type": "stream",
     "text": [
      "a=12, b=12121212, c=12, d=12.0, e=48, f=48.0, g=48.0, h=48.048.048.0\n"
     ]
    }
   ],
   "source": [
    "a = '12'\n",
    "b = a * 4\n",
    "c = int(a)\n",
    "d = float(a)\n",
    "e = c * 4\n",
    "f = d * 4\n",
    "g = str(f)\n",
    "h = g * 3\n",
    "print(f'a={a}, b={b}, c={c}, d={d}, e={e}, f={f}, g={g}, h={h}')"
   ]
  },
  {
   "cell_type": "markdown",
   "id": "22271f71-fd8c-44f2-ab69-2b48b9c7f7ac",
   "metadata": {},
   "source": [
    "Praktičen primer potrebe po pretvarjanju med podatkovnimi tipi in s tem povezanimi tažavami lahko opazujemo na primeru številke cestnega odseka. Podatek je štirimestno število, ki je zapisano z vodečimi ničlami.  \n",
    "\n",
    "> pomoč: https://fstring.help/cheat/"
   ]
  },
  {
   "cell_type": "code",
   "execution_count": 37,
   "id": "df6bc9b6-7e5a-40e3-95b8-64d92c6d289b",
   "metadata": {},
   "outputs": [
    {
     "name": "stdout",
     "output_type": "stream",
     "text": [
      "string: 0066, float: 66.0, int: 66\n",
      "string: 66\n",
      "string: 66.0\n",
      "string: 0066\n",
      "string: 0066\n",
      "0066 0066\n"
     ]
    }
   ],
   "source": [
    "odsek = '0066'\n",
    "odsek_f = float(odsek)\n",
    "odsek_i = int(odsek)\n",
    "print(f'string: {odsek}, float: {odsek_f}, int: {odsek_i}')\n",
    "\n",
    "odsek = str(odsek_i)\n",
    "print(f'string: {odsek}')\n",
    "\n",
    "odsek = str(odsek_f)\n",
    "print(f'string: {odsek}')\n",
    "\n",
    "#popravimo - glej tabelo f-string formatov \n",
    "print(f'string: {odsek_i:>04}')\n",
    "odsek_iz_int = f'{odsek:>04}'\n",
    "\n",
    "odsek = str(odsek_f)\n",
    "print(f'string: {odsek[:-2]:0>4}')\n",
    "odsek_iz_float = f'{odsek[:-2]:0>4}'\n",
    "\n",
    "print(odsek_iz_int, odsek_iz_float)"
   ]
  },
  {
   "cell_type": "code",
   "execution_count": 156,
   "id": "a07af51f-737b-48a6-9026-a89ace182d91",
   "metadata": {},
   "outputs": [
    {
     "name": "stdout",
     "output_type": "stream",
     "text": [
      "['a', 'v', 't', 'o', 'c', 'e', 's', 't', 'a']\n",
      "('o', 'c', 'v', 'a', 'e', 's', 't')\n"
     ]
    }
   ],
   "source": [
    "beseda = 'avtocesta'\n",
    "seznam = list(beseda)\n",
    "print(seznam)\n",
    "\n",
    "mnozica = set(seznam)\n",
    "n_terica = tuple(mnozica)\n",
    "\n",
    "print(n_terica)"
   ]
  },
  {
   "cell_type": "markdown",
   "id": "ab93d11b-b04a-48e8-bf94-8b85749f9fc2",
   "metadata": {},
   "source": [
    "### Krmilne strukture"
   ]
  },
  {
   "cell_type": "markdown",
   "id": "6fe5c95b-ebae-4f8d-a724-62527fbd8083",
   "metadata": {},
   "source": [
    "#### Zaporedje"
   ]
  },
  {
   "cell_type": "code",
   "execution_count": 168,
   "id": "bed181c5-5e94-404d-ad7c-816ab64f9c6a",
   "metadata": {},
   "outputs": [
    {
     "ename": "NameError",
     "evalue": "name 'st1' is not defined",
     "output_type": "error",
     "traceback": [
      "\u001b[1;31m---------------------------------------------------------------------------\u001b[0m",
      "\u001b[1;31mNameError\u001b[0m                                 Traceback (most recent call last)",
      "Cell \u001b[1;32mIn[168], line 1\u001b[0m\n\u001b[1;32m----> 1\u001b[0m c \u001b[38;5;241m=\u001b[39m \u001b[43mst1\u001b[49m \u001b[38;5;241m+\u001b[39m st2\n\u001b[0;32m      2\u001b[0m st1 \u001b[38;5;241m=\u001b[39m \u001b[38;5;241m10\u001b[39m\n\u001b[0;32m      3\u001b[0m st2 \u001b[38;5;241m=\u001b[39m \u001b[38;5;241m17\u001b[39m\n",
      "\u001b[1;31mNameError\u001b[0m: name 'st1' is not defined"
     ]
    }
   ],
   "source": [
    "c = st1 + st2\n",
    "st1 = 10\n",
    "st2 = 17\n",
    "print(c)"
   ]
  },
  {
   "cell_type": "markdown",
   "id": "6dd20ea2-cd01-462e-af8f-9790a9141f39",
   "metadata": {},
   "source": [
    "#### Pogojni stavek"
   ]
  },
  {
   "cell_type": "code",
   "execution_count": 145,
   "id": "7d678798-e1f9-4ddb-b43a-8d636bda1daf",
   "metadata": {},
   "outputs": [
    {
     "name": "stdout",
     "output_type": "stream",
     "text": [
      "a je manjši od b\n"
     ]
    }
   ],
   "source": [
    "a = 2\n",
    "b = 5\n",
    "if a < b:\n",
    "    print('a je manjši od b')\n",
    "elif a > b: \n",
    "    print('a je večji od b')\n",
    "else:\n",
    "    print('a je enako b')"
   ]
  },
  {
   "cell_type": "markdown",
   "id": "e09dea9f-e468-49b8-a4b4-3756c74fd2cd",
   "metadata": {},
   "source": [
    "#### Zanka"
   ]
  },
  {
   "cell_type": "code",
   "execution_count": 148,
   "id": "ecb4284a-41c2-44eb-b4a5-872f1c84c57d",
   "metadata": {},
   "outputs": [
    {
     "name": "stdout",
     "output_type": "stream",
     "text": [
      "xxxx\n",
      "xxxx\n",
      "xxxx\n"
     ]
    }
   ],
   "source": [
    "print('xxxx')\n",
    "print('xxxx')\n",
    "print('xxxx')"
   ]
  },
  {
   "cell_type": "code",
   "execution_count": 150,
   "id": "43decb00-bb89-4d31-85f4-51172a60c043",
   "metadata": {},
   "outputs": [
    {
     "name": "stdout",
     "output_type": "stream",
     "text": [
      "xxxx\n",
      "xxxx\n",
      "xxxx\n"
     ]
    }
   ],
   "source": [
    "sez = [1, 2, 3]\n",
    "for i in sez:\n",
    "    print('xxxx')"
   ]
  },
  {
   "cell_type": "code",
   "execution_count": 152,
   "id": "dbf469a9-8940-49b3-a43e-3859e3af982d",
   "metadata": {},
   "outputs": [
    {
     "name": "stdout",
     "output_type": "stream",
     "text": [
      "xxxx\n",
      "xxxx\n",
      "xxxx\n"
     ]
    }
   ],
   "source": [
    "niz = '123'\n",
    "for i in niz:\n",
    "    print('xxxx')"
   ]
  },
  {
   "cell_type": "code",
   "execution_count": 156,
   "id": "8862026a-50bf-4f93-b9a2-ef088ae7f836",
   "metadata": {},
   "outputs": [
    {
     "name": "stdout",
     "output_type": "stream",
     "text": [
      "xxxx\n",
      "xxxx\n",
      "xxxx\n"
     ]
    }
   ],
   "source": [
    "for i in range(3):\n",
    "    print('xxxx')"
   ]
  },
  {
   "cell_type": "code",
   "execution_count": 174,
   "id": "8817f00a-922e-4d99-b4ab-862d3fb2638e",
   "metadata": {},
   "outputs": [
    {
     "name": "stdout",
     "output_type": "stream",
     "text": [
      "4 8\n",
      "5 8\n",
      "6 8\n",
      "7 8\n"
     ]
    }
   ],
   "source": [
    "a = 4\n",
    "b = 8\n",
    "while a < b:\n",
    "    print(a, b)\n",
    "    a += 1\n"
   ]
  },
  {
   "cell_type": "code",
   "execution_count": 45,
   "id": "260985b1-df3b-44f3-abfc-44d84c90fee1",
   "metadata": {},
   "outputs": [
    {
     "name": "stdout",
     "output_type": "stream",
     "text": [
      "10\n"
     ]
    }
   ],
   "source": [
    "#neskončna zanka\n",
    "a = 1\n",
    "while True:\n",
    "    if a < 10:\n",
    "        a += 1\n",
    "    else:\n",
    "        break\n",
    "print(a)"
   ]
  },
  {
   "cell_type": "markdown",
   "id": "f058898d-74dd-49e9-967a-f387ebdf6d79",
   "metadata": {},
   "source": [
    "### Knjižnice\n",
    "Vsak problem bi lahko implementirali z omenjenimi konstrukti, vendar je velika prednost uporabe Pythona v tem, da obstaja bogat nabor knjižnic, v katerih najdemo rešitve, ki so jih napisali drugi. Knjižnice uvozimo v naš program, nato pokličemo funkcije, ki rešujejo naš problem. "
   ]
  },
  {
   "cell_type": "code",
   "execution_count": 61,
   "id": "3d64c149-078e-40a2-acad-34bd937595fc",
   "metadata": {},
   "outputs": [
    {
     "name": "stdout",
     "output_type": "stream",
     "text": [
      "sin(180)=0.0, cos(180)=-1.0\n"
     ]
    }
   ],
   "source": [
    "import math \n",
    "from math import sin, radians\n",
    "\n",
    "kosinus = math.cos(math.pi)\n",
    "sinus = sin(radians(180))\n",
    "\n",
    "print(f'sin(180)={sinus:.1f}, cos(180)={kosinus}')"
   ]
  },
  {
   "cell_type": "markdown",
   "id": "b55198ba-a64d-4506-b448-2d25d213e695",
   "metadata": {},
   "source": [
    "### Knjižnica numpy\n",
    "\n",
    "`numpy` je knjižnica, ki implementira številne numerične algoritme. Temeljna podatkovna struktura je večdimenzinalno polje - `numpy array` in z njim povezane funkcije, ki omogočajo učinkovito izvajanje operacij nad polji (vektorji, matrikami...). Knjižnica vključuje številne statistične funkcije, funkcije za delo z naključnimi števili, izvajanje operacij linearne algebre in matematične analize...\n",
    "\n",
    "Knjižnica je zelo učinkovita tako iz vidika porabe pomnilnika, kot časovnega izvajanja operacij. Začetnikom in izkušenim programerjem omogoča preprosto izvajanje običajno zelo zahtevnih matematičnih in numeričnih operacij.\n",
    "\n",
    "Knjižnico običajno uvozimo tako, da jo pri uvozu preimenujemo v 'np'.\n"
   ]
  },
  {
   "cell_type": "code",
   "execution_count": 4,
   "id": "6d83f669-4f8b-43a3-ad95-26f611d7f983",
   "metadata": {},
   "outputs": [],
   "source": [
    "import numpy as np"
   ]
  },
  {
   "cell_type": "markdown",
   "id": "9b7df4de-a4cf-4fea-853f-0ce0029d229a",
   "metadata": {},
   "source": [
    "#### motivacijski primer\n",
    "\n",
    "Pripravimo seznam in vse elemente seznama pomnožimo s številom 3. "
   ]
  },
  {
   "cell_type": "code",
   "execution_count": 14,
   "id": "c70d8974-a793-4fbb-8194-c604633970ec",
   "metadata": {},
   "outputs": [
    {
     "data": {
      "text/plain": [
       "[3, 6, 9, 12, 15, 18]"
      ]
     },
     "execution_count": 14,
     "metadata": {},
     "output_type": "execute_result"
    }
   ],
   "source": [
    "x = [1, 2, 3, 4, 5, 6]\n",
    "\n",
    "x1 = []\n",
    "for i in x:\n",
    "    x1.append(i*3)\n",
    "\n",
    "x1"
   ]
  },
  {
   "cell_type": "markdown",
   "id": "63aeac0b-ba43-4d74-81ad-e4080575ce58",
   "metadata": {},
   "source": [
    "Krajše in \"bolj pythonovsko\" lahko isto zapišemo tudi tako:"
   ]
  },
  {
   "cell_type": "code",
   "execution_count": 17,
   "id": "298b0091-e996-4201-baf4-c556b8717605",
   "metadata": {},
   "outputs": [
    {
     "data": {
      "text/plain": [
       "[3, 6, 9, 12, 15, 18]"
      ]
     },
     "execution_count": 17,
     "metadata": {},
     "output_type": "execute_result"
    }
   ],
   "source": [
    "x = [1, 2, 3, 4, 5, 6]    \n",
    "x1 = [i*3 for i in x]\n",
    "x1"
   ]
  },
  {
   "cell_type": "markdown",
   "id": "f30e47b1-05c5-4d8c-95e8-39f5182816d9",
   "metadata": {},
   "source": [
    "Vendar v obeh primerih vidimo, da moramo zapisati zanko v kateri vsak element seznama posebej obdelamo. "
   ]
  },
  {
   "cell_type": "markdown",
   "id": "c7bb9ebd-ebd6-47ec-b799-8d2130c09f05",
   "metadata": {},
   "source": [
    "#### priprava numpy polja"
   ]
  },
  {
   "cell_type": "code",
   "execution_count": 24,
   "id": "b3350229-a000-4b49-b01c-8df89c4d8d11",
   "metadata": {},
   "outputs": [],
   "source": [
    "#iz običajnega seznama\n",
    "a1 = np.array([1, 2, 3, 4, 5, 6])\n",
    "\n",
    "a2 = np.zeros(10)\n",
    "a3 = np.ones(10)\n",
    "\n",
    "#razpon od začetne vrednosti do končne vrednosti razdelimo na N delov\n",
    "a4 = np.linspace(0, 10, 100)\n",
    "\n",
    "#ustvarimo zaporedje števil z definiranim korakom (ki je lahko tudi decimalno število!)\n",
    "a5 = np.arange(0, 10, 0.2)"
   ]
  },
  {
   "cell_type": "markdown",
   "id": "c70ec6b6-24d7-4f10-be85-883131988390",
   "metadata": {},
   "source": [
    "#### množenje vektorja s skalarjem z uporabo numpy"
   ]
  },
  {
   "cell_type": "code",
   "execution_count": 27,
   "id": "339daa4e-8eba-43ef-a7b7-92263fce87cd",
   "metadata": {},
   "outputs": [
    {
     "data": {
      "text/plain": [
       "array([ 3,  6,  9, 12, 15, 18])"
      ]
     },
     "execution_count": 27,
     "metadata": {},
     "output_type": "execute_result"
    }
   ],
   "source": [
    "x = np.array([1, 2, 3, 4, 5, 6])\n",
    "\n",
    "y = x * 3   # operacija množenja s skalarjem se distribuira na vse elemente polja\n",
    "\n",
    "y"
   ]
  },
  {
   "cell_type": "markdown",
   "id": "053cb0ec-6fd3-438b-83f7-dc1144350207",
   "metadata": {},
   "source": [
    "#### seštevanje vektorjev"
   ]
  },
  {
   "cell_type": "code",
   "execution_count": 31,
   "id": "daec9660-310e-4bc7-8283-e35f4f8a3f51",
   "metadata": {},
   "outputs": [
    {
     "data": {
      "text/plain": [
       "array([5, 7, 9])"
      ]
     },
     "execution_count": 31,
     "metadata": {},
     "output_type": "execute_result"
    }
   ],
   "source": [
    "v1 = np.array([1, 2, 3])\n",
    "v2 = np.array([4, 5, 6])\n",
    "\n",
    "v1 + v2"
   ]
  }
 ],
 "metadata": {
  "kernelspec": {
   "display_name": "Python [conda env:base] *",
   "language": "python",
   "name": "conda-base-py"
  },
  "language_info": {
   "codemirror_mode": {
    "name": "ipython",
    "version": 3
   },
   "file_extension": ".py",
   "mimetype": "text/x-python",
   "name": "python",
   "nbconvert_exporter": "python",
   "pygments_lexer": "ipython3",
   "version": "3.9.21"
  }
 },
 "nbformat": 4,
 "nbformat_minor": 5
}
